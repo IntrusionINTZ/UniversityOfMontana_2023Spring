{
 "cells": [
  {
   "cell_type": "code",
   "execution_count": 1,
   "id": "7370ae1c",
   "metadata": {},
   "outputs": [],
   "source": [
    "import pandas as pd\n",
    "import numpy as np"
   ]
  },
  {
   "cell_type": "code",
   "execution_count": null,
   "id": "00a46bb7",
   "metadata": {},
   "outputs": [],
   "source": [
    "path = 'dns_oct-jan.csv'\n",
    "data = pd.read_csv(path)\n",
    "data['day'] = pd.to_datetime(data.day)\n",
    "data = data[['shieldid', 'day', 'dns_qname', 'dns_qdomainname', 'num_clients', 'num_responses']]\n",
    "data"
   ]
  },
  {
   "cell_type": "code",
   "execution_count": null,
   "id": "491cb4a7",
   "metadata": {},
   "outputs": [],
   "source": [
    "pivot_table = data.pivot_table(values = 'shieldid', index = ['dns_qdomainname', 'day'], columns = None, aggfunc = 'nunique') \n",
    "pivot_table.reset_index(inplace = True)\n",
    "counts = pivot_table.groupby('dns_qdomainname')['day'].nunique()\n",
    "filtered_df = pivot_table.loc[pivot_table['dns_qdomainname'].isin(counts[counts <= 7].index)] #change the number \"7\" for how many days you want this domain_name to show up in the dataset\n",
    "anomalies = filtered_df[filtered_df.shieldid > 3].set_index('day')\n",
    "data.loc[:,'anomaly'] = 0\n",
    "data.loc[data.dns_qdomainname.isin(anomalies.dns_qdomainname.to_list()),'anomaly'] = 1"
   ]
  },
  {
   "cell_type": "code",
   "execution_count": null,
   "id": "914b8b46",
   "metadata": {},
   "outputs": [],
   "source": []
  },
  {
   "cell_type": "code",
   "execution_count": null,
   "id": "0eb7e631",
   "metadata": {},
   "outputs": [],
   "source": []
  },
  {
   "cell_type": "code",
   "execution_count": null,
   "id": "5d1915af",
   "metadata": {},
   "outputs": [],
   "source": [
    "data2 = pd.merge(data, pivot_table, on= ['day', 'dns_qdomainname'], how = 'left')"
   ]
  }
 ],
 "metadata": {
  "kernelspec": {
   "display_name": "Python 3 (ipykernel)",
   "language": "python",
   "name": "python3"
  },
  "language_info": {
   "codemirror_mode": {
    "name": "ipython",
    "version": 3
   },
   "file_extension": ".py",
   "mimetype": "text/x-python",
   "name": "python",
   "nbconvert_exporter": "python",
   "pygments_lexer": "ipython3",
   "version": "3.9.13"
  }
 },
 "nbformat": 4,
 "nbformat_minor": 5
}
