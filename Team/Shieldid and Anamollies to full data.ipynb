{
 "cells": [
  {
   "cell_type": "code",
   "execution_count": 1,
   "id": "b86894b2",
   "metadata": {},
   "outputs": [],
   "source": [
    "import pandas as pd\n",
    "import numpy as np"
   ]
  },
  {
   "cell_type": "code",
   "execution_count": null,
   "id": "9c40cbdc",
   "metadata": {},
   "outputs": [],
   "source": [
    "path = 'dns_oct-jan.csv'\n",
    "data = pd.read_csv(path)\n",
    "data['day'] = pd.to_datetime(data.day)\n",
    "data = data[['shieldid', 'day', 'dns_qname', 'dns_qdomainname', 'num_clients', 'num_responses']]\n",
    "data"
   ]
  },
  {
   "cell_type": "code",
   "execution_count": null,
   "id": "8e8bf52b",
   "metadata": {},
   "outputs": [],
   "source": [
    "pivot_table = data.pivot_table(values = 'shieldid', index = ['dns_qdomainname', 'day'], columns = None, aggfunc = 'nunique') \n",
    "pivot_table.reset_index(inplace = True)\n",
    "counts = pivot_table.groupby('dns_qdomainname')['day'].nunique()\n",
    "filtered_df = pivot_table.loc[pivot_table['dns_qdomainname'].isin(counts[counts <= 7].index)] #change the number \"7\" for how many days you want this domain_name to show up in the dataset\n",
    "anomalies = filtered_df[filtered_df.shieldid > 3].set_index('day')\n",
    "data.loc[:,'anomaly'] = 0\n",
    "data.loc[data.dns_qdomainname.isin(anomalies.dns_qdomainname.to_list()),'anomaly'] = 1\n",
    "anomalies['shieldid_count'] = anomalies.shieldid\n",
    "anomalies = anomalies.drop('shieldid', axis = 1)\n",
    "anomalies = anomalies.reset_index()\n",
    "pivot_table['shieldid_count'] = pivot_table.shieldid\n",
    "pivot_table = pivot_table.drop('shieldid', axis = 1)\n",
    "data2 = pd.merge(data, pivot_table, on= ['day', 'dns_qdomainname'], how = 'left')"
   ]
  },
  {
   "cell_type": "code",
   "execution_count": null,
   "id": "37be8f96",
   "metadata": {},
   "outputs": [],
   "source": []
  },
  {
   "cell_type": "code",
   "execution_count": null,
   "id": "c13d248e",
   "metadata": {},
   "outputs": [],
   "source": []
  },
  {
   "cell_type": "code",
   "execution_count": null,
   "id": "29103f70",
   "metadata": {},
   "outputs": [],
   "source": []
  }
 ],
 "metadata": {
  "kernelspec": {
   "display_name": "Python 3 (ipykernel)",
   "language": "python",
   "name": "python3"
  },
  "language_info": {
   "codemirror_mode": {
    "name": "ipython",
    "version": 3
   },
   "file_extension": ".py",
   "mimetype": "text/x-python",
   "name": "python",
   "nbconvert_exporter": "python",
   "pygments_lexer": "ipython3",
   "version": "3.9.13"
  }
 },
 "nbformat": 4,
 "nbformat_minor": 5
}
