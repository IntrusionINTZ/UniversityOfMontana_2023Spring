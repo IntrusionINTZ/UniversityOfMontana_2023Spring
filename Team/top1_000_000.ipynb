{
 "cells": [
  {
   "cell_type": "code",
   "execution_count": null,
   "id": "ecbe9800",
   "metadata": {},
   "outputs": [],
   "source": [
    "path = 'https://raw.githubusercontent.com/zer0h/top-1000000-domains/master/top-1000000-domains'\n",
    "top_domains = pd.read_csv(path, header=None)\n",
    "top_domains.rename({0: 'dns_qdomainname'}, axis=1, inplace=True)\n",
    "rank = list(range(1, 1_000_001))\n",
    "top_domains['rank'] = rank\n",
    "top_domains.set_index('dns_qdomainname',inplace=True)\n",
    "df = df.merge(top_domains, how='left', left_on='dns_qdomainname', right_on='dns_qdomainname')"
   ]
  }
 ],
 "metadata": {
  "kernelspec": {
   "display_name": "Python 3 (ipykernel)",
   "language": "python",
   "name": "python3"
  },
  "language_info": {
   "codemirror_mode": {
    "name": "ipython",
    "version": 3
   },
   "file_extension": ".py",
   "mimetype": "text/x-python",
   "name": "python",
   "nbconvert_exporter": "python",
   "pygments_lexer": "ipython3",
   "version": "3.9.12"
  }
 },
 "nbformat": 4,
 "nbformat_minor": 5
}
