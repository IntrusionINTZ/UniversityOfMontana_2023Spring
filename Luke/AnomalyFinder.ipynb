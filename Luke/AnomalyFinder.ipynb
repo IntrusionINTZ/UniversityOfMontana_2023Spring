{
 "cells": [
  {
   "cell_type": "markdown",
   "id": "5a90ab07",
   "metadata": {},
   "source": [
    "## Import packages"
   ]
  },
  {
   "cell_type": "code",
   "execution_count": 1,
   "id": "7877495c",
   "metadata": {},
   "outputs": [],
   "source": [
    "import pandas as pd\n",
    "import matplotlib.pyplot as plt\n",
    "import numpy as np\n",
    "import datetime as dt\n",
    "import random"
   ]
  },
  {
   "cell_type": "markdown",
   "id": "4d295ba4",
   "metadata": {},
   "source": [
    "## Function that reads the data"
   ]
  },
  {
   "cell_type": "code",
   "execution_count": 2,
   "id": "49eeb0d5",
   "metadata": {},
   "outputs": [],
   "source": [
    "def get_data():\n",
    "    # Path which our data is stored\n",
    "    path = 'dns_oct-jan.csv'\n",
    "\n",
    "    data = pd.read_csv(\n",
    "             path,\n",
    "             header=0\n",
    "    )\n",
    "\n",
    "    # Change to data type to datetime\n",
    "    data['day'] = pd.to_datetime(data.day)\n",
    "\n",
    "    # Keep necessary columns\n",
    "    data = data[['shieldid', 'day', 'dns_qname', 'dns_qdomainname', 'num_clients', 'num_responses']]\n",
    "    \n",
    "    # drop the test shieldid\n",
    "    bad_shield = 'haddomyev'\n",
    "    data = data[data.shieldid != bad_shield]\n",
    "    \n",
    "    return data"
   ]
  },
  {
   "cell_type": "code",
   "execution_count": 3,
   "id": "6a7b9cd1",
   "metadata": {},
   "outputs": [],
   "source": [
    "data = get_data()"
   ]
  },
  {
   "cell_type": "markdown",
   "id": "9bbf8f3a",
   "metadata": {},
   "source": [
    "## Function transforms data into df"
   ]
  },
  {
   "cell_type": "code",
   "execution_count": 4,
   "id": "9943e583",
   "metadata": {},
   "outputs": [],
   "source": [
    "def get_df(data):    \n",
    "    \n",
    "    # df1 sums by domain name and day\n",
    "    df1 = data.groupby(by=['dns_qdomainname','day']).sum()\n",
    "\n",
    "    # df2 counts unique query names by domain name and day\n",
    "    df2 = data.groupby(by=['dns_qdomainname','day'])[['shieldid','dns_qname']].nunique()\n",
    "    df2 = pd.DataFrame(df2)\n",
    "    df2.rename(columns={'shieldid': 'num_shieldid', 'dns_qname': 'num_dns_qname'}, inplace=True)\n",
    "    \n",
    "    # Concatenate df1 and df2 into df\n",
    "    df = pd.concat([df1, df2], axis=1)\n",
    "    df.reset_index(level=1, inplace=True)\n",
    "    \n",
    "    # Create Column with Generic popularity\n",
    "    path = 'https://raw.githubusercontent.com/zer0h/top-1000000-domains/master/top-1000000-domains'\n",
    "    top_domains = pd.read_csv(path, header=None, names=['dns_qdomainname'])\n",
    "    rank = list(range(1, 1_000_001))\n",
    "    top_domains['rank'] = rank\n",
    "    top_domains.set_index('dns_qdomainname',inplace=True)\n",
    "    df = df.join(top_domains, on='dns_qdomainname')\n",
    "    \n",
    "    # Merge with the transformed whois csv\n",
    "    import re\n",
    "    whois = pd.read_csv('whoisv1.csv')\n",
    "    whois.set_index('domain', inplace=True)\n",
    "    dfmerged = df.join(whois, on='dns_qdomainname')\n",
    "    \n",
    "    # Define data types\n",
    "    dfmerged['registration_period'] = pd.to_numeric(dfmerged['registration_period'].str.replace(r'\\D+', '', regex=True))\n",
    "    dfmerged['day'] = pd.to_datetime(dfmerged['day'])\n",
    "    dfmerged['created'] = pd.to_datetime(dfmerged['created'])\n",
    "    dfmerged['updated'] = pd.to_datetime(dfmerged['updated'])\n",
    "    dfmerged['expires'] = pd.to_datetime(dfmerged['expires'])\n",
    "    \n",
    "    return dfmerged\n",
    "\n",
    "df = get_df(data)"
   ]
  },
  {
   "cell_type": "code",
   "execution_count": 5,
   "id": "85393e44",
   "metadata": {},
   "outputs": [
    {
     "data": {
      "text/html": [
       "<div>\n",
       "<style scoped>\n",
       "    .dataframe tbody tr th:only-of-type {\n",
       "        vertical-align: middle;\n",
       "    }\n",
       "\n",
       "    .dataframe tbody tr th {\n",
       "        vertical-align: top;\n",
       "    }\n",
       "\n",
       "    .dataframe thead th {\n",
       "        text-align: right;\n",
       "    }\n",
       "</style>\n",
       "<table border=\"1\" class=\"dataframe\">\n",
       "  <thead>\n",
       "    <tr style=\"text-align: right;\">\n",
       "      <th></th>\n",
       "      <th>day</th>\n",
       "      <th>num_clients</th>\n",
       "      <th>num_responses</th>\n",
       "      <th>num_shieldid</th>\n",
       "      <th>num_dns_qname</th>\n",
       "      <th>rank</th>\n",
       "      <th>created</th>\n",
       "      <th>updated</th>\n",
       "      <th>expires</th>\n",
       "      <th>whois</th>\n",
       "      <th>registration_period</th>\n",
       "    </tr>\n",
       "    <tr>\n",
       "      <th>dns_qdomainname</th>\n",
       "      <th></th>\n",
       "      <th></th>\n",
       "      <th></th>\n",
       "      <th></th>\n",
       "      <th></th>\n",
       "      <th></th>\n",
       "      <th></th>\n",
       "      <th></th>\n",
       "      <th></th>\n",
       "      <th></th>\n",
       "      <th></th>\n",
       "    </tr>\n",
       "  </thead>\n",
       "  <tbody>\n",
       "    <tr>\n",
       "      <th>*google.com</th>\n",
       "      <td>2022-10-02</td>\n",
       "      <td>1</td>\n",
       "      <td>2</td>\n",
       "      <td>1</td>\n",
       "      <td>1</td>\n",
       "      <td>NaN</td>\n",
       "      <td>NaT</td>\n",
       "      <td>NaT</td>\n",
       "      <td>NaT</td>\n",
       "      <td>NaN</td>\n",
       "      <td>NaN</td>\n",
       "    </tr>\n",
       "    <tr>\n",
       "      <th>*google.com</th>\n",
       "      <td>2022-10-03</td>\n",
       "      <td>1</td>\n",
       "      <td>2</td>\n",
       "      <td>1</td>\n",
       "      <td>1</td>\n",
       "      <td>NaN</td>\n",
       "      <td>NaT</td>\n",
       "      <td>NaT</td>\n",
       "      <td>NaT</td>\n",
       "      <td>NaN</td>\n",
       "      <td>NaN</td>\n",
       "    </tr>\n",
       "    <tr>\n",
       "      <th>*google.com</th>\n",
       "      <td>2022-10-04</td>\n",
       "      <td>1</td>\n",
       "      <td>2</td>\n",
       "      <td>1</td>\n",
       "      <td>1</td>\n",
       "      <td>NaN</td>\n",
       "      <td>NaT</td>\n",
       "      <td>NaT</td>\n",
       "      <td>NaT</td>\n",
       "      <td>NaN</td>\n",
       "      <td>NaN</td>\n",
       "    </tr>\n",
       "    <tr>\n",
       "      <th>*google.com</th>\n",
       "      <td>2022-10-10</td>\n",
       "      <td>1</td>\n",
       "      <td>1</td>\n",
       "      <td>1</td>\n",
       "      <td>1</td>\n",
       "      <td>NaN</td>\n",
       "      <td>NaT</td>\n",
       "      <td>NaT</td>\n",
       "      <td>NaT</td>\n",
       "      <td>NaN</td>\n",
       "      <td>NaN</td>\n",
       "    </tr>\n",
       "    <tr>\n",
       "      <th>*google.com</th>\n",
       "      <td>2022-10-11</td>\n",
       "      <td>3</td>\n",
       "      <td>115</td>\n",
       "      <td>2</td>\n",
       "      <td>1</td>\n",
       "      <td>NaN</td>\n",
       "      <td>NaT</td>\n",
       "      <td>NaT</td>\n",
       "      <td>NaT</td>\n",
       "      <td>NaN</td>\n",
       "      <td>NaN</td>\n",
       "    </tr>\n",
       "  </tbody>\n",
       "</table>\n",
       "</div>"
      ],
      "text/plain": [
       "                       day  num_clients  num_responses  num_shieldid  \\\n",
       "dns_qdomainname                                                        \n",
       "*google.com     2022-10-02            1              2             1   \n",
       "*google.com     2022-10-03            1              2             1   \n",
       "*google.com     2022-10-04            1              2             1   \n",
       "*google.com     2022-10-10            1              1             1   \n",
       "*google.com     2022-10-11            3            115             2   \n",
       "\n",
       "                 num_dns_qname  rank created updated expires whois  \\\n",
       "dns_qdomainname                                                      \n",
       "*google.com                  1   NaN     NaT     NaT     NaT   NaN   \n",
       "*google.com                  1   NaN     NaT     NaT     NaT   NaN   \n",
       "*google.com                  1   NaN     NaT     NaT     NaT   NaN   \n",
       "*google.com                  1   NaN     NaT     NaT     NaT   NaN   \n",
       "*google.com                  1   NaN     NaT     NaT     NaT   NaN   \n",
       "\n",
       "                 registration_period  \n",
       "dns_qdomainname                       \n",
       "*google.com                      NaN  \n",
       "*google.com                      NaN  \n",
       "*google.com                      NaN  \n",
       "*google.com                      NaN  \n",
       "*google.com                      NaN  "
      ]
     },
     "execution_count": 5,
     "metadata": {},
     "output_type": "execute_result"
    }
   ],
   "source": [
    "df.head(5)"
   ]
  },
  {
   "cell_type": "markdown",
   "id": "44c75803",
   "metadata": {},
   "source": [
    "# Create a PROB_OBS_NUM_CLIENTS column\n",
    "\n",
    "**Probabilistic approach**\n",
    "- Group domains with similar total number of client traffic with a client sum group column\n",
    "- Examine the empirical probability distribution for daily number of clients in each client sum group\n",
    "    - Ex: When we have domains with daily clients that sum to $7$, the client sum group $7$ has values $s$$S = \\{1,2,3,4,5,6,7\\}$. We will have an exact probability $p$ of seeing each $s$ in $S$.\n",
    "- Map the probability of seeing a value as large as $s$ for each client sum group\n",
    "    - Ex: Client sum group $3$ has $S = \\{1,2,3\\}$. For each $s$, we map values for $p$ such as $P = \\{1,0.2,0.1\\}$\n",
    "- After doing this for all client sum groups, we decide a probability cutoff while considering anomaly sensitivity.\n",
    "    - Ex: Only taking observations where $p \\leq 0.01$ \n",
    "## Create a client_sum_group column that puts each observation into a client sum group"
   ]
  },
  {
   "cell_type": "code",
   "execution_count": 6,
   "id": "c1245957",
   "metadata": {},
   "outputs": [],
   "source": [
    "# Group by domain and sum the number of clients\n",
    "clients_by_domain = df.groupby(df.index)['num_clients'].sum().reset_index()\n",
    "\n",
    "# Sort the clients by ascending order\n",
    "clients_by_domain.sort_values(by='num_clients', inplace=True)\n",
    "\n",
    "# Create the bin edges for 5 equal cuts\n",
    "bin_edges_a = pd.qcut(clients_by_domain['num_clients'], q=clients_by_domain.num_clients.nunique(), duplicates='drop').sort_values().unique()\n",
    "\n",
    "# Create the bin labels\n",
    "bin_labels = [f\"{int(bin_edges_a[i].left+1)}-{int(bin_edges_a[i].right)}\" for i in range(len(bin_edges_a))]\n",
    "\n",
    "# Convert bin edges to floats\n",
    "bin_edges = [float(bin_edge.left) for bin_edge in bin_edges_a]\n",
    "bin_edges.append(float(bin_edges_a[-1].right))\n",
    "\n",
    "# Bin the data and assign the labels to each row\n",
    "clients_by_domain['group'] = pd.cut(clients_by_domain['num_clients'], bins=bin_edges, labels=bin_labels)\n",
    "\n",
    "# Merge the labeled data back to the original dataframe\n",
    "df = pd.merge(df, clients_by_domain[['dns_qdomainname', 'group']], on='dns_qdomainname', how='left')\n",
    "df.rename(columns={'group': 'client_sum_group'}, inplace=True)\n",
    "df.set_index('dns_qdomainname', inplace=True)"
   ]
  },
  {
   "cell_type": "code",
   "execution_count": 84,
   "id": "7db771aa",
   "metadata": {},
   "outputs": [
    {
     "name": "stdout",
     "output_type": "stream",
     "text": [
      "We have 318 different client sum groups.\n"
     ]
    },
    {
     "data": {
      "text/html": [
       "<div>\n",
       "<style scoped>\n",
       "    .dataframe tbody tr th:only-of-type {\n",
       "        vertical-align: middle;\n",
       "    }\n",
       "\n",
       "    .dataframe tbody tr th {\n",
       "        vertical-align: top;\n",
       "    }\n",
       "\n",
       "    .dataframe thead th {\n",
       "        text-align: right;\n",
       "    }\n",
       "</style>\n",
       "<table border=\"1\" class=\"dataframe\">\n",
       "  <thead>\n",
       "    <tr style=\"text-align: right;\">\n",
       "      <th></th>\n",
       "      <th>day</th>\n",
       "      <th>num_clients</th>\n",
       "      <th>client_sum_group</th>\n",
       "    </tr>\n",
       "    <tr>\n",
       "      <th>dns_qdomainname</th>\n",
       "      <th></th>\n",
       "      <th></th>\n",
       "      <th></th>\n",
       "    </tr>\n",
       "  </thead>\n",
       "  <tbody>\n",
       "    <tr>\n",
       "      <th>xserver.jp</th>\n",
       "      <td>2022-11-02</td>\n",
       "      <td>12</td>\n",
       "      <td>147-148</td>\n",
       "    </tr>\n",
       "    <tr>\n",
       "      <th>ideas4diy.com</th>\n",
       "      <td>2022-10-28</td>\n",
       "      <td>1</td>\n",
       "      <td>3-3</td>\n",
       "    </tr>\n",
       "    <tr>\n",
       "      <th>yesmovies.ag</th>\n",
       "      <td>2023-01-23</td>\n",
       "      <td>4</td>\n",
       "      <td>63-63</td>\n",
       "    </tr>\n",
       "    <tr>\n",
       "      <th>werthers-original.us</th>\n",
       "      <td>2022-11-23</td>\n",
       "      <td>2</td>\n",
       "      <td>37-37</td>\n",
       "    </tr>\n",
       "    <tr>\n",
       "      <th>torrents.to</th>\n",
       "      <td>2022-12-01</td>\n",
       "      <td>1</td>\n",
       "      <td>49-49</td>\n",
       "    </tr>\n",
       "  </tbody>\n",
       "</table>\n",
       "</div>"
      ],
      "text/plain": [
       "                            day  num_clients client_sum_group\n",
       "dns_qdomainname                                              \n",
       "xserver.jp           2022-11-02           12          147-148\n",
       "ideas4diy.com        2022-10-28            1              3-3\n",
       "yesmovies.ag         2023-01-23            4            63-63\n",
       "werthers-original.us 2022-11-23            2            37-37\n",
       "torrents.to          2022-12-01            1            49-49"
      ]
     },
     "execution_count": 84,
     "metadata": {},
     "output_type": "execute_result"
    }
   ],
   "source": [
    "print('We have ' + str(df.client_sum_group.nunique()) + ' different client sum groups.')\n",
    "df[['day', 'num_clients', 'client_sum_group']].sample(5)"
   ]
  },
  {
   "cell_type": "code",
   "execution_count": 8,
   "id": "19563382",
   "metadata": {},
   "outputs": [
    {
     "data": {
      "image/png": "[encoded data removed]",
      "text/plain": [
       "<Figure size 1080x360 with 1 Axes>"
      ]
     },
     "metadata": {
      "needs_background": "light"
     },
     "output_type": "display_data"
    }
   ],
   "source": [
    "# Plot the number of observations for each sum group\n",
    "group_counts = df.client_sum_group.value_counts().sort_index()\n",
    "group_counts.index = group_counts.index.map(lambda x: int(x.split('-')[0]))\n",
    "plt.figure(figsize=(15,5))\n",
    "plt.scatter(group_counts.index, group_counts.values)\n",
    "# Rolling mean of our observation counts\n",
    "group_counts_rounded = group_counts.rolling(window=10, center=True).mean()\n",
    "plt.plot(group_counts_rounded.index, group_counts_rounded.values, color='red', linewidth=3)\n",
    "# Plot details\n",
    "plt.xscale('log')\n",
    "plt.yscale('log')\n",
    "plt.xlabel('Client Sum Group (Lower Bound)', fontsize=15)\n",
    "plt.ylabel('Observations in the Client Sum Group' , fontsize=14)\n",
    "plt.title('Ensuring Semi-equivalent Client Sum Group Sizes', fontsize=15)\n",
    "plt.show()"
   ]
  },
  {
   "cell_type": "markdown",
   "id": "4ce50ab7",
   "metadata": {},
   "source": [
    "## Motivation: example with sum_of_clients = '73-73' and the domain 'effusedprankle.com'"
   ]
  },
  {
   "cell_type": "code",
   "execution_count": 32,
   "id": "cbcdf388",
   "metadata": {
    "scrolled": false
   },
   "outputs": [
    {
     "data": {
      "image/png": "[encoded data removed]",
      "text/plain": [
       "<Figure size 1080x360 with 1 Axes>"
      ]
     },
     "metadata": {
      "needs_background": "light"
     },
     "output_type": "display_data"
    }
   ],
   "source": [
    "# Sum group 73-73\n",
    "group = '73-73'\n",
    "# Number of bins\n",
    "num_bins = int(group.split('-')[0])+1  \n",
    "# Locate rows in df with the specified client cum group\n",
    "test = df.loc[df.client_sum_group==group]\n",
    "# Plot the histogram\n",
    "plt.figure(figsize=(15,5))\n",
    "plt.hist(test.num_clients, bins=np.linspace(1, num_bins, num_bins),\n",
    "         density=True, edgecolor='black')\n",
    "# Split the sum group string into two part\n",
    "parts = group.split('-')\n",
    "# Check if the first and last characters are the same\n",
    "if parts[0] == parts[1]:\n",
    "    group = parts[0]\n",
    "# Plot details  \n",
    "plt.xlabel('Daily Client Observations')\n",
    "plt.ylabel('Probability Density')\n",
    "plt.title(\"Daily Client Observation Sum being \" + str(group) + ' in ' + str((df.day.max()-df.day.min()).days+1) + ' Days')\n",
    "plt.show()"
   ]
  },
  {
   "cell_type": "code",
   "execution_count": 33,
   "id": "d6c011e0",
   "metadata": {
    "scrolled": true
   },
   "outputs": [
    {
     "data": {
      "image/png": "[encoded data removed]",
      "text/plain": [
       "<Figure size 1080x360 with 1 Axes>"
      ]
     },
     "metadata": {
      "needs_background": "light"
     },
     "output_type": "display_data"
    }
   ],
   "source": [
    "# Plot the cumulative distribution \n",
    "plt.figure(figsize=(15,5))\n",
    "pds, bins, patches = plt.hist(test.num_clients, bins=np.linspace(1, num_bins, num_bins), cumulative=True, density=True)\n",
    "# Print the list of probability densities\n",
    "for i in range(len(pds)):\n",
    "    pds[i] = round(pds[i], 3)\n",
    "# Plot details\n",
    "plt.xlabel('num_clients')\n",
    "plt.ylabel('Cumulative Probability')\n",
    "plt.show()"
   ]
  },
  {
   "cell_type": "code",
   "execution_count": 34,
   "id": "82638a9e",
   "metadata": {},
   "outputs": [
    {
     "data": {
      "text/html": [
       "<div>\n",
       "<style scoped>\n",
       "    .dataframe tbody tr th:only-of-type {\n",
       "        vertical-align: middle;\n",
       "    }\n",
       "\n",
       "    .dataframe tbody tr th {\n",
       "        vertical-align: top;\n",
       "    }\n",
       "\n",
       "    .dataframe thead th {\n",
       "        text-align: right;\n",
       "    }\n",
       "</style>\n",
       "<table border=\"1\" class=\"dataframe\">\n",
       "  <thead>\n",
       "    <tr style=\"text-align: right;\">\n",
       "      <th></th>\n",
       "      <th>num_clients</th>\n",
       "      <th>prob_obs_num_clients</th>\n",
       "    </tr>\n",
       "  </thead>\n",
       "  <tbody>\n",
       "    <tr>\n",
       "      <th>0</th>\n",
       "      <td>1</td>\n",
       "      <td>1.000</td>\n",
       "    </tr>\n",
       "    <tr>\n",
       "      <th>1</th>\n",
       "      <td>2</td>\n",
       "      <td>0.693</td>\n",
       "    </tr>\n",
       "    <tr>\n",
       "      <th>2</th>\n",
       "      <td>3</td>\n",
       "      <td>0.343</td>\n",
       "    </tr>\n",
       "    <tr>\n",
       "      <th>3</th>\n",
       "      <td>4</td>\n",
       "      <td>0.238</td>\n",
       "    </tr>\n",
       "    <tr>\n",
       "      <th>4</th>\n",
       "      <td>5</td>\n",
       "      <td>0.120</td>\n",
       "    </tr>\n",
       "    <tr>\n",
       "      <th>...</th>\n",
       "      <td>...</td>\n",
       "      <td>...</td>\n",
       "    </tr>\n",
       "    <tr>\n",
       "      <th>68</th>\n",
       "      <td>69</td>\n",
       "      <td>0.000</td>\n",
       "    </tr>\n",
       "    <tr>\n",
       "      <th>69</th>\n",
       "      <td>70</td>\n",
       "      <td>0.000</td>\n",
       "    </tr>\n",
       "    <tr>\n",
       "      <th>70</th>\n",
       "      <td>71</td>\n",
       "      <td>0.000</td>\n",
       "    </tr>\n",
       "    <tr>\n",
       "      <th>71</th>\n",
       "      <td>72</td>\n",
       "      <td>0.000</td>\n",
       "    </tr>\n",
       "    <tr>\n",
       "      <th>72</th>\n",
       "      <td>73</td>\n",
       "      <td>0.000</td>\n",
       "    </tr>\n",
       "  </tbody>\n",
       "</table>\n",
       "<p>73 rows × 2 columns</p>\n",
       "</div>"
      ],
      "text/plain": [
       "    num_clients  prob_obs_num_clients\n",
       "0             1                 1.000\n",
       "1             2                 0.693\n",
       "2             3                 0.343\n",
       "3             4                 0.238\n",
       "4             5                 0.120\n",
       "..          ...                   ...\n",
       "68           69                 0.000\n",
       "69           70                 0.000\n",
       "70           71                 0.000\n",
       "71           72                 0.000\n",
       "72           73                 0.000\n",
       "\n",
       "[73 rows x 2 columns]"
      ]
     },
     "execution_count": 34,
     "metadata": {},
     "output_type": "execute_result"
    }
   ],
   "source": [
    "# Probability that an observation is greater than or equal to 1, 2, ... sum_of_clients\n",
    "probs = list(1-pds)\n",
    "probs.insert(0, 1)\n",
    "probs.pop(-1)\n",
    "probs = np.array(probs)\n",
    "# Daily number of client bins\n",
    "bins = list(bins)\n",
    "for i in range(len(bins)):\n",
    "    bins[i] = int(i)\n",
    "bins.pop(0)\n",
    "bins = np.array(bins)\n",
    "# Probability map\n",
    "prob_map = pd.DataFrame({'num_clients': bins, 'prob_obs_num_clients': probs})\n",
    "prob_map"
   ]
  },
  {
   "cell_type": "code",
   "execution_count": 35,
   "id": "6d794e7b",
   "metadata": {
    "scrolled": true
   },
   "outputs": [
    {
     "name": "stderr",
     "output_type": "stream",
     "text": [
      "/var/folders/71/xfbtbhlj7376x9dz94q5nmbh0000gn/T/ipykernel_31689/3710457374.py:4: SettingWithCopyWarning: \n",
      "A value is trying to be set on a copy of a slice from a DataFrame.\n",
      "Try using .loc[row_indexer,col_indexer] = value instead\n",
      "\n",
      "See the caveats in the documentation: https://pandas.pydata.org/pandas-docs/stable/user_guide/indexing.html#returning-a-view-versus-a-copy\n",
      "  test['prob_obs_num_clients'] = test['num_clients'].map(client_dict)\n"
     ]
    }
   ],
   "source": [
    "# Number of clients probability dictionary\n",
    "client_dict = dict(zip(bins, probs))\n",
    "# Create our column with probabiities\n",
    "test['prob_obs_num_clients'] = test['num_clients'].map(client_dict)\n",
    "# List of domains that have an anomaly\n",
    "cutoff = 0.01\n",
    "anomalies = list(test.loc[test.prob_obs_num_clients<=cutoff].sort_values(by='num_clients', ascending=False).index.unique())"
   ]
  },
  {
   "cell_type": "code",
   "execution_count": 38,
   "id": "4e36288b",
   "metadata": {},
   "outputs": [
    {
     "data": {
      "text/html": [
       "<div>\n",
       "<style scoped>\n",
       "    .dataframe tbody tr th:only-of-type {\n",
       "        vertical-align: middle;\n",
       "    }\n",
       "\n",
       "    .dataframe tbody tr th {\n",
       "        vertical-align: top;\n",
       "    }\n",
       "\n",
       "    .dataframe thead th {\n",
       "        text-align: right;\n",
       "    }\n",
       "</style>\n",
       "<table border=\"1\" class=\"dataframe\">\n",
       "  <thead>\n",
       "    <tr style=\"text-align: right;\">\n",
       "      <th></th>\n",
       "      <th>day</th>\n",
       "      <th>num_clients</th>\n",
       "      <th>num_responses</th>\n",
       "      <th>num_shieldid</th>\n",
       "      <th>num_dns_qname</th>\n",
       "      <th>rank</th>\n",
       "      <th>created</th>\n",
       "      <th>updated</th>\n",
       "      <th>expires</th>\n",
       "      <th>whois</th>\n",
       "      <th>registration_period</th>\n",
       "      <th>client_sum_group</th>\n",
       "      <th>prob_obs_num_clients</th>\n",
       "    </tr>\n",
       "    <tr>\n",
       "      <th>dns_qdomainname</th>\n",
       "      <th></th>\n",
       "      <th></th>\n",
       "      <th></th>\n",
       "      <th></th>\n",
       "      <th></th>\n",
       "      <th></th>\n",
       "      <th></th>\n",
       "      <th></th>\n",
       "      <th></th>\n",
       "      <th></th>\n",
       "      <th></th>\n",
       "      <th></th>\n",
       "      <th></th>\n",
       "    </tr>\n",
       "  </thead>\n",
       "  <tbody>\n",
       "    <tr>\n",
       "      <th>christiansunite.com</th>\n",
       "      <td>2022-11-10</td>\n",
       "      <td>68</td>\n",
       "      <td>186</td>\n",
       "      <td>2</td>\n",
       "      <td>23</td>\n",
       "      <td>149406.0</td>\n",
       "      <td>1999-06-28</td>\n",
       "      <td>1999-06-28</td>\n",
       "      <td>2023-06-28</td>\n",
       "      <td>whois.networksolutions.com</td>\n",
       "      <td>8766.0</td>\n",
       "      <td>73-73</td>\n",
       "      <td>0.000</td>\n",
       "    </tr>\n",
       "    <tr>\n",
       "      <th>adelphi.edu</th>\n",
       "      <td>2022-10-18</td>\n",
       "      <td>38</td>\n",
       "      <td>46</td>\n",
       "      <td>2</td>\n",
       "      <td>19</td>\n",
       "      <td>66756.0</td>\n",
       "      <td>1990-04-19</td>\n",
       "      <td>1990-04-19</td>\n",
       "      <td>2021-07-31</td>\n",
       "      <td>whois.educause.net</td>\n",
       "      <td>11426.0</td>\n",
       "      <td>73-73</td>\n",
       "      <td>0.000</td>\n",
       "    </tr>\n",
       "    <tr>\n",
       "      <th>jkcf.org</th>\n",
       "      <td>2022-10-11</td>\n",
       "      <td>32</td>\n",
       "      <td>68</td>\n",
       "      <td>2</td>\n",
       "      <td>2</td>\n",
       "      <td>129943.0</td>\n",
       "      <td>2000-12-11</td>\n",
       "      <td>2000-12-11</td>\n",
       "      <td>2022-12-11</td>\n",
       "      <td>whois.networksolutions.com</td>\n",
       "      <td>8035.0</td>\n",
       "      <td>73-73</td>\n",
       "      <td>0.001</td>\n",
       "    </tr>\n",
       "    <tr>\n",
       "      <th>creativelive.com</th>\n",
       "      <td>2022-10-12</td>\n",
       "      <td>28</td>\n",
       "      <td>96</td>\n",
       "      <td>2</td>\n",
       "      <td>7</td>\n",
       "      <td>10172.0</td>\n",
       "      <td>2008-12-31</td>\n",
       "      <td>2008-12-31</td>\n",
       "      <td>2023-12-31</td>\n",
       "      <td>whois.namecheap.com</td>\n",
       "      <td>5478.0</td>\n",
       "      <td>73-73</td>\n",
       "      <td>0.001</td>\n",
       "    </tr>\n",
       "    <tr>\n",
       "      <th>effusedprankle.com</th>\n",
       "      <td>2022-10-03</td>\n",
       "      <td>26</td>\n",
       "      <td>623</td>\n",
       "      <td>4</td>\n",
       "      <td>1</td>\n",
       "      <td>NaN</td>\n",
       "      <td>2022-02-27</td>\n",
       "      <td>2022-02-27</td>\n",
       "      <td>2023-02-27</td>\n",
       "      <td>whois.pananames.com</td>\n",
       "      <td>365.0</td>\n",
       "      <td>73-73</td>\n",
       "      <td>0.001</td>\n",
       "    </tr>\n",
       "  </tbody>\n",
       "</table>\n",
       "</div>"
      ],
      "text/plain": [
       "                           day  num_clients  num_responses  num_shieldid  \\\n",
       "dns_qdomainname                                                            \n",
       "christiansunite.com 2022-11-10           68            186             2   \n",
       "adelphi.edu         2022-10-18           38             46             2   \n",
       "jkcf.org            2022-10-11           32             68             2   \n",
       "creativelive.com    2022-10-12           28             96             2   \n",
       "effusedprankle.com  2022-10-03           26            623             4   \n",
       "\n",
       "                     num_dns_qname      rank    created    updated    expires  \\\n",
       "dns_qdomainname                                                                 \n",
       "christiansunite.com             23  149406.0 1999-06-28 1999-06-28 2023-06-28   \n",
       "adelphi.edu                     19   66756.0 1990-04-19 1990-04-19 2021-07-31   \n",
       "jkcf.org                         2  129943.0 2000-12-11 2000-12-11 2022-12-11   \n",
       "creativelive.com                 7   10172.0 2008-12-31 2008-12-31 2023-12-31   \n",
       "effusedprankle.com               1       NaN 2022-02-27 2022-02-27 2023-02-27   \n",
       "\n",
       "                                          whois  registration_period  \\\n",
       "dns_qdomainname                                                        \n",
       "christiansunite.com  whois.networksolutions.com               8766.0   \n",
       "adelphi.edu                  whois.educause.net              11426.0   \n",
       "jkcf.org             whois.networksolutions.com               8035.0   \n",
       "creativelive.com            whois.namecheap.com               5478.0   \n",
       "effusedprankle.com          whois.pananames.com                365.0   \n",
       "\n",
       "                    client_sum_group  prob_obs_num_clients  \n",
       "dns_qdomainname                                             \n",
       "christiansunite.com            73-73                 0.000  \n",
       "adelphi.edu                    73-73                 0.000  \n",
       "jkcf.org                       73-73                 0.001  \n",
       "creativelive.com               73-73                 0.001  \n",
       "effusedprankle.com             73-73                 0.001  "
      ]
     },
     "execution_count": 38,
     "metadata": {},
     "output_type": "execute_result"
    }
   ],
   "source": [
    "test.loc[test.prob_obs_num_clients<=cutoff].sort_values(by='num_clients', ascending=False).head(5)"
   ]
  },
  {
   "cell_type": "code",
   "execution_count": 14,
   "id": "afdac0d0",
   "metadata": {},
   "outputs": [
    {
     "data": {
      "image/png": "[encoded data removed]",
      "text/plain": [
       "<Figure size 1080x216 with 1 Axes>"
      ]
     },
     "metadata": {
      "needs_background": "light"
     },
     "output_type": "display_data"
    }
   ],
   "source": [
    "# Effusedprankle.com detected as anomaly\n",
    "case = 'effusedprankle.com'\n",
    "testcase = test.loc[test.index==case]\n",
    "plt.figure(figsize=(15,3))\n",
    "plt.scatter(x=testcase.day, y=testcase.num_clients)\n",
    "plt.title(case)\n",
    "plt.xlabel('Date')\n",
    "plt.ylabel('Number of Clients')\n",
    "plt.show()"
   ]
  },
  {
   "attachments": {},
   "cell_type": "markdown",
   "id": "c6f15a44",
   "metadata": {},
   "source": [
    "<img src=\"spam_example1.png\" width=\"500\">"
   ]
  },
  {
   "cell_type": "markdown",
   "id": "8eb04c84",
   "metadata": {},
   "source": [
    "## Creating the column called 'prob_obs_num_clients'"
   ]
  },
  {
   "cell_type": "code",
   "execution_count": 86,
   "id": "12bd5109",
   "metadata": {},
   "outputs": [
    {
     "name": "stdout",
     "output_type": "stream",
     "text": [
      "Elapsed time: 4.184468984603882 seconds\n"
     ]
    }
   ],
   "source": [
    "import time\n",
    "\n",
    "start_time = time.time()\n",
    "\n",
    "# list the sum groups\n",
    "sum_groups = list(df.client_sum_group.sort_values().unique())\n",
    "\n",
    "# loop over each client_sum_group\n",
    "for group in sum_groups:\n",
    "    # empty dictionary\n",
    "    client_dict = {}\n",
    "    # slice the df to sum group\n",
    "    case = df.loc[df.client_sum_group==group]\n",
    "    # create the number of bins so we get discrete bins\n",
    "    num_bins = case.num_clients.max()\n",
    "    # cumulative distribution of the empirical observations\n",
    "    pds, bins = np.histogram(case.num_clients, bins=num_bins, density=False)\n",
    "    probs = list(1 - (pds/np.sum(pds)).cumsum())\n",
    "    probs.insert(0,1)\n",
    "    probs.pop(-1)\n",
    "    probs = np.array(probs)\n",
    "    # list the integer bin values\n",
    "    bins = list(bins)\n",
    "    for i in range(len(bins)):\n",
    "        bins[i] = int(i)\n",
    "    bins.pop(0)\n",
    "    bins = np.array(bins)\n",
    "    # client dictionary\n",
    "    client_dict = dict(zip(bins, probs))\n",
    "    # replace the values in the 'prob_obs_num_clients' column with dictionary values\n",
    "    df.loc[df['client_sum_group'] == group, 'prob_obs_num_clients'] = case['num_clients'].map(client_dict)\n",
    "    \n",
    "end_time = time.time()\n",
    "\n",
    "elapsed_time = end_time - start_time\n",
    "\n",
    "print(f\"Elapsed time: {elapsed_time} seconds\")"
   ]
  },
  {
   "cell_type": "markdown",
   "id": "c8c50dcb",
   "metadata": {},
   "source": [
    "# ANOMALIES"
   ]
  },
  {
   "cell_type": "code",
   "execution_count": 87,
   "id": "07bfbe7b",
   "metadata": {
    "scrolled": false
   },
   "outputs": [
    {
     "data": {
      "text/html": [
       "<div>\n",
       "<style scoped>\n",
       "    .dataframe tbody tr th:only-of-type {\n",
       "        vertical-align: middle;\n",
       "    }\n",
       "\n",
       "    .dataframe tbody tr th {\n",
       "        vertical-align: top;\n",
       "    }\n",
       "\n",
       "    .dataframe thead th {\n",
       "        text-align: right;\n",
       "    }\n",
       "</style>\n",
       "<table border=\"1\" class=\"dataframe\">\n",
       "  <thead>\n",
       "    <tr style=\"text-align: right;\">\n",
       "      <th></th>\n",
       "      <th>day</th>\n",
       "      <th>num_clients</th>\n",
       "      <th>rank</th>\n",
       "      <th>registration_period</th>\n",
       "      <th>client_sum_group</th>\n",
       "      <th>prob_obs_num_clients</th>\n",
       "    </tr>\n",
       "    <tr>\n",
       "      <th>dns_qdomainname</th>\n",
       "      <th></th>\n",
       "      <th></th>\n",
       "      <th></th>\n",
       "      <th></th>\n",
       "      <th></th>\n",
       "      <th></th>\n",
       "    </tr>\n",
       "  </thead>\n",
       "  <tbody>\n",
       "    <tr>\n",
       "      <th>tbs.com</th>\n",
       "      <td>2022-10-18</td>\n",
       "      <td>183</td>\n",
       "      <td>73041.0</td>\n",
       "      <td>9862.0</td>\n",
       "      <td>500-510</td>\n",
       "      <td>0.000256</td>\n",
       "    </tr>\n",
       "    <tr>\n",
       "      <th>band.us</th>\n",
       "      <td>2023-01-17</td>\n",
       "      <td>134</td>\n",
       "      <td>4451.0</td>\n",
       "      <td>7669.0</td>\n",
       "      <td>1936-2010</td>\n",
       "      <td>0.000531</td>\n",
       "    </tr>\n",
       "    <tr>\n",
       "      <th>smithsonianmag.com</th>\n",
       "      <td>2022-10-11</td>\n",
       "      <td>297</td>\n",
       "      <td>5064.0</td>\n",
       "      <td>9495.0</td>\n",
       "      <td>2681-2801</td>\n",
       "      <td>0.000307</td>\n",
       "    </tr>\n",
       "    <tr>\n",
       "      <th>middlesexcountynj.gov</th>\n",
       "      <td>2022-11-02</td>\n",
       "      <td>188</td>\n",
       "      <td>NaN</td>\n",
       "      <td>NaN</td>\n",
       "      <td>1085-1120</td>\n",
       "      <td>0.000480</td>\n",
       "    </tr>\n",
       "    <tr>\n",
       "      <th>vulture.com</th>\n",
       "      <td>2022-10-03</td>\n",
       "      <td>303</td>\n",
       "      <td>2538.0</td>\n",
       "      <td>7670.0</td>\n",
       "      <td>2950-3124</td>\n",
       "      <td>0.000303</td>\n",
       "    </tr>\n",
       "    <tr>\n",
       "      <th>sifee.biz</th>\n",
       "      <td>2022-10-26</td>\n",
       "      <td>44</td>\n",
       "      <td>NaN</td>\n",
       "      <td>3286.0</td>\n",
       "      <td>44-44</td>\n",
       "      <td>0.000127</td>\n",
       "    </tr>\n",
       "    <tr>\n",
       "      <th>thecut.com</th>\n",
       "      <td>2022-10-21</td>\n",
       "      <td>181</td>\n",
       "      <td>NaN</td>\n",
       "      <td>9496.0</td>\n",
       "      <td>1159-1203</td>\n",
       "      <td>0.000232</td>\n",
       "    </tr>\n",
       "    <tr>\n",
       "      <th>appetize.io</th>\n",
       "      <td>2022-10-15</td>\n",
       "      <td>40</td>\n",
       "      <td>123596.0</td>\n",
       "      <td>3287.0</td>\n",
       "      <td>40-40</td>\n",
       "      <td>0.000199</td>\n",
       "    </tr>\n",
       "    <tr>\n",
       "      <th>willistowerswatson.com</th>\n",
       "      <td>2022-11-28</td>\n",
       "      <td>57</td>\n",
       "      <td>NaN</td>\n",
       "      <td>2922.0</td>\n",
       "      <td>176-178</td>\n",
       "      <td>0.000339</td>\n",
       "    </tr>\n",
       "    <tr>\n",
       "      <th>cpromarket.com</th>\n",
       "      <td>2023-01-17</td>\n",
       "      <td>32</td>\n",
       "      <td>NaN</td>\n",
       "      <td>4017.0</td>\n",
       "      <td>32-32</td>\n",
       "      <td>0.000186</td>\n",
       "    </tr>\n",
       "  </tbody>\n",
       "</table>\n",
       "</div>"
      ],
      "text/plain": [
       "                              day  num_clients      rank  registration_period  \\\n",
       "dns_qdomainname                                                                 \n",
       "tbs.com                2022-10-18          183   73041.0               9862.0   \n",
       "band.us                2023-01-17          134    4451.0               7669.0   \n",
       "smithsonianmag.com     2022-10-11          297    5064.0               9495.0   \n",
       "middlesexcountynj.gov  2022-11-02          188       NaN                  NaN   \n",
       "vulture.com            2022-10-03          303    2538.0               7670.0   \n",
       "sifee.biz              2022-10-26           44       NaN               3286.0   \n",
       "thecut.com             2022-10-21          181       NaN               9496.0   \n",
       "appetize.io            2022-10-15           40  123596.0               3287.0   \n",
       "willistowerswatson.com 2022-11-28           57       NaN               2922.0   \n",
       "cpromarket.com         2023-01-17           32       NaN               4017.0   \n",
       "\n",
       "                       client_sum_group  prob_obs_num_clients  \n",
       "dns_qdomainname                                                \n",
       "tbs.com                         500-510              0.000256  \n",
       "band.us                       1936-2010              0.000531  \n",
       "smithsonianmag.com            2681-2801              0.000307  \n",
       "middlesexcountynj.gov         1085-1120              0.000480  \n",
       "vulture.com                   2950-3124              0.000303  \n",
       "sifee.biz                         44-44              0.000127  \n",
       "thecut.com                    1159-1203              0.000232  \n",
       "appetize.io                       40-40              0.000199  \n",
       "willistowerswatson.com          176-178              0.000339  \n",
       "cpromarket.com                    32-32              0.000186  "
      ]
     },
     "execution_count": 87,
     "metadata": {},
     "output_type": "execute_result"
    }
   ],
   "source": [
    "# Random sample from the top 1000\n",
    "(df.sort_values(by='prob_obs_num_clients').head(1000).sample(10))[['day', 'num_clients', 'rank', 'registration_period', 'client_sum_group', 'prob_obs_num_clients']]\n",
    "# Check 'prreqcroab.icu'"
   ]
  },
  {
   "cell_type": "markdown",
   "id": "fcbb6cfe",
   "metadata": {},
   "source": [
    "### When the client_sum_group is small, we have a small sample space for potential num_clients. For example, in client_sum_group '3-3', our sample space for potential num_clients observations is {1, 2, 3}. When this happens, our model does not have enough granularity. Thus randomness comes into play whether a daily observation is persay a '1' or a '2' and whether a domain is categorized persay in client_sum_group '3-3' or '4-4'."
   ]
  },
  {
   "cell_type": "code",
   "execution_count": 88,
   "id": "6881cff9",
   "metadata": {},
   "outputs": [
    {
     "data": {
      "image/png": "[encoded data removed]",
      "text/plain": [
       "<Figure size 1080x360 with 1 Axes>"
      ]
     },
     "metadata": {
      "needs_background": "light"
     },
     "output_type": "display_data"
    }
   ],
   "source": [
    "# Choosing an anomaly as less than 1% probability across the board\n",
    "cutoff = .01\n",
    "anomalies = df.loc[(df.prob_obs_num_clients<=cutoff)].client_sum_group.value_counts().sort_index()\n",
    "anomalies.index = anomalies.index.map(lambda x: int(x.split('-')[0]))\n",
    "plt.figure(figsize=(15,5))\n",
    "plt.scatter(anomalies.index, anomalies.values)\n",
    "anomalies_rounded = anomalies.rolling(window=10, center=True).mean()\n",
    "plt.plot(anomalies_rounded.index, anomalies_rounded.values, color='red', linewidth=3)\n",
    "plt.xscale('log')\n",
    "plt.xlabel('Client Sum Group (Lower Bound)', fontsize=15)\n",
    "plt.ylabel('Number of Anomalies (' + str(round(cutoff*100)) + '% cutoff)', fontsize=12)\n",
    "plt.title('Anomalies by the Lower Bound of the Client Sum Group', fontsize=15)\n",
    "plt.show()"
   ]
  },
  {
   "cell_type": "markdown",
   "id": "1053d2f8",
   "metadata": {},
   "source": [
    "### However, recall that the number of observations in each client sum group was also imbalanced. Given the chosen cutoff, examine the proportion of anomalies per client sum group. The proportion of anomalies per client sum group approaches our desired cutoff as the client sum group gets larger. As we increase our client sum group, our sample space for potential num_clients observations gets larger. Increased granularity in the probability space results in increased anomaly capture."
   ]
  },
  {
   "cell_type": "code",
   "execution_count": 90,
   "id": "48ca51a1",
   "metadata": {
    "scrolled": false
   },
   "outputs": [
    {
     "data": {
      "image/png": "[encoded data removed]",
      "text/plain": [
       "<Figure size 1080x360 with 1 Axes>"
      ]
     },
     "metadata": {
      "needs_background": "light"
     },
     "output_type": "display_data"
    }
   ],
   "source": [
    "# Plot the number of observations for each sum group\n",
    "group_counts = df.client_sum_group.value_counts().sort_index()\n",
    "group_counts.index = group_counts.index.map(lambda x: int(x.split('-')[0]))\n",
    "granularity = (anomalies/group_counts)\n",
    "granularity_rounded = granularity.rolling(window=10, center=True).mean()\n",
    "plt.figure(figsize=(15,5))\n",
    "plt.scatter(granularity.index, granularity.values)\n",
    "plt.plot(granularity_rounded.index, granularity_rounded.values, color='red', linewidth=3)\n",
    "plt.xscale('log')\n",
    "plt.xlabel('Client Sum Group (Lower Bound)', fontsize=15)\n",
    "plt.ylabel('Anomalies per Observation' , fontsize=14)\n",
    "plt.title('Anomaly Cutoff Increases with Observation Granularity', fontsize=15)\n",
    "plt.show()"
   ]
  },
  {
   "cell_type": "markdown",
   "id": "1b9c2017",
   "metadata": {},
   "source": [
    "# Create a PROB_OBS_NUM_RESPONSES column"
   ]
  },
  {
   "cell_type": "code",
   "execution_count": null,
   "id": "73270ab8",
   "metadata": {},
   "outputs": [],
   "source": []
  },
  {
   "cell_type": "markdown",
   "id": "9f8051ad",
   "metadata": {},
   "source": [
    "# Create a PROB_OBS_NUM_SHIELDIDS column"
   ]
  },
  {
   "cell_type": "code",
   "execution_count": null,
   "id": "3e409a44",
   "metadata": {},
   "outputs": [],
   "source": []
  },
  {
   "cell_type": "markdown",
   "id": "dc50f46e",
   "metadata": {},
   "source": [
    "# Create a PROB_OBS_NUM_DNS_QNAMES column"
   ]
  },
  {
   "cell_type": "code",
   "execution_count": null,
   "id": "81806e33",
   "metadata": {},
   "outputs": [],
   "source": []
  },
  {
   "cell_type": "markdown",
   "id": "226075c6",
   "metadata": {},
   "source": [
    "## We have identified a probabilistic approach with a \"clouded lens\", but we want to know what other factors are when it comes to an anomaly. We could define an anomaly column of 0 (False) or 1 (True) by mutliplying each of the PROB columns. We would play around with the cutoff value based on how sensitive we want our model to be detecting anomalies. \n",
    "\n",
    "## Then, once we have labeled each observation, we would be able to improve the model with machine learning on the PROB columns, rank, top level domain, registration period, day, etc.\n",
    "\n",
    "## Parameters could yield valuable information in identifying and improving the proposed anomaly detection method and provide us with a \"clear lens\"."
   ]
  },
  {
   "cell_type": "code",
   "execution_count": null,
   "id": "8b13c199",
   "metadata": {},
   "outputs": [],
   "source": []
  },
  {
   "cell_type": "markdown",
   "id": "ba8789a5",
   "metadata": {},
   "source": [
    "## Plotting the anomalies"
   ]
  },
  {
   "cell_type": "code",
   "execution_count": 67,
   "id": "10efee24",
   "metadata": {},
   "outputs": [
    {
     "data": {
      "image/png": "[encoded data removed]",
      "text/plain": [
       "<Figure size 1008x576 with 4 Axes>"
      ]
     },
     "metadata": {
      "needs_background": "light"
     },
     "output_type": "display_data"
    },
    {
     "data": {
      "image/png": "[encoded data removed]",
      "text/plain": [
       "<Figure size 720x360 with 1 Axes>"
      ]
     },
     "metadata": {
      "needs_background": "light"
     },
     "output_type": "display_data"
    }
   ],
   "source": [
    "domain = 'prreqcroab.icu'\n",
    "test = df.loc[df.index==domain]\n",
    "\n",
    "fig, axs = plt.subplots(2, 2, figsize=(14, 8))\n",
    "\n",
    "axs[(0,0)].scatter(test.day, test.num_clients)\n",
    "axs[(0,0)].set_title('Num Clients')\n",
    "\n",
    "axs[(0,1)].scatter(test.day, test.num_responses)\n",
    "axs[(0,1)].set_title('Num Responses')\n",
    "\n",
    "axs[(1,0)].scatter(test.day, test.num_shieldid)\n",
    "axs[(1,0)].set_title('Num Shield IDs')\n",
    "\n",
    "axs[(1,1)].scatter(test.day, test.num_dns_qname)\n",
    "axs[(1,1)].set_title('Num DNS Query Names')\n",
    "\n",
    "plt.suptitle(str(domain), fontsize=20)\n",
    "plt.tight_layout()\n",
    "plt.show()\n",
    "\n",
    "def get_domain_case_new(data, domain_name):    \n",
    "    \n",
    "    datatemp = data.loc[data.dns_qdomainname==domain_name]\n",
    "    \n",
    "    # df1 sums by domain name and day\n",
    "    df1 = datatemp.groupby(by=['dns_qdomainname','day','shieldid']).sum()\n",
    "\n",
    "    # df2 counts unique query names by domain name and day\n",
    "    df2 = datatemp.groupby(by=['dns_qdomainname','day','shieldid'])['dns_qname'].nunique()\n",
    "    df2 = pd.DataFrame(df2)\n",
    "    df2.rename(columns={'dns_qname': 'num_dns_qname'}, inplace=True)\n",
    "\n",
    "    # Concatenate df1 and df2 into df\n",
    "    domain_case_new = pd.concat([df1, df2], axis=1)\n",
    "    domain_case_new.reset_index(level=1, inplace=True)\n",
    "    domain_case_new.reset_index(level=1, inplace=True)\n",
    "    \n",
    "    from itertools import product\n",
    "\n",
    "    # Create lists of all unique values in columns \n",
    "    l1 = [domain_name]\n",
    "    l2 = list(data.day.unique())\n",
    "    l3 = list(domain_case_new.shieldid.unique())\n",
    "    l4 = [0]\n",
    "    l5 = [0]\n",
    "    l6 = [0]\n",
    "\n",
    "    _ = pd.DataFrame(list(product(l1, l2, l3, l4, l5, l6)), columns=['dns_qdomainname', 'day', 'shieldid', 'num_clients', 'num_responses', 'num_dns_qname'])\n",
    "    _.set_index(list(_)[0], inplace=True)\n",
    "\n",
    "    domain_case_new = pd.concat([domain_case_new, _])\n",
    "\n",
    "    domain_case_new = domain_case_new.sort_values('day')\n",
    "\n",
    "    return domain_case_new\n",
    "\n",
    "domain_case_new = get_domain_case_new(data, domain)\n",
    "\n",
    "# Plot\n",
    "plt.figure(figsize=(10,5))\n",
    "plt.xlabel('Date', fontsize=15)\n",
    "plt.ylabel('Shieldid', fontsize=15)\n",
    "plt.title(domain)\n",
    "plt.scatter(domain_case_new.day, domain_case_new.shieldid, s=domain_case_new.num_responses)\n",
    "plt.scatter(domain_case_new.day, domain_case_new.shieldid, s=domain_case_new.num_clients)\n",
    "plt.grid(axis='both')"
   ]
  },
  {
   "cell_type": "code",
   "execution_count": null,
   "id": "076003f6",
   "metadata": {},
   "outputs": [],
   "source": []
  }
 ],
 "metadata": {
  "kernelspec": {
   "display_name": "Python 3 (ipykernel)",
   "language": "python",
   "name": "python3"
  },
  "language_info": {
   "codemirror_mode": {
    "name": "ipython",
    "version": 3
   },
   "file_extension": ".py",
   "mimetype": "text/x-python",
   "name": "python",
   "nbconvert_exporter": "python",
   "pygments_lexer": "ipython3",
   "version": "3.9.12"
  }
 },
 "nbformat": 4,
 "nbformat_minor": 5
}
