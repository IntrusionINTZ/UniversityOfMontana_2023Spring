{
 "cells": [
  {
   "cell_type": "code",
   "execution_count": 2,
   "id": "9fb23abb",
   "metadata": {},
   "outputs": [],
   "source": [
    "import pandas as pd\n",
    "import numpy as np\n",
    "import matplotlib.pyplot as plt"
   ]
  },
  {
   "cell_type": "code",
   "execution_count": 3,
   "id": "20e3c57a",
   "metadata": {
    "scrolled": true
   },
   "outputs": [],
   "source": [
    "data = pd.read_csv('data_small_update.csv', parse_dates = True)"
   ]
  },
  {
   "cell_type": "code",
   "execution_count": null,
   "id": "3a62237c",
   "metadata": {
    "scrolled": true
   },
   "outputs": [],
   "source": [
    "data.head()"
   ]
  },
  {
   "cell_type": "markdown",
   "id": "d4c7cb4a",
   "metadata": {},
   "source": [
    "# Balancing the dataset"
   ]
  },
  {
   "cell_type": "code",
   "execution_count": 4,
   "id": "5462b2fa",
   "metadata": {},
   "outputs": [],
   "source": [
    "from sklearn.model_selection import train_test_split as tts"
   ]
  },
  {
   "cell_type": "code",
   "execution_count": 5,
   "id": "0067ec07",
   "metadata": {},
   "outputs": [],
   "source": [
    "X = data.drop(['anomaly_2', 'anomaly'],axis=1)\n",
    "y = data.anomaly_2"
   ]
  },
  {
   "cell_type": "code",
   "execution_count": 6,
   "id": "7a9a792d",
   "metadata": {},
   "outputs": [
    {
     "data": {
      "text/plain": [
       "(8261727, 5487)"
      ]
     },
     "execution_count": 6,
     "metadata": {},
     "output_type": "execute_result"
    }
   ],
   "source": [
    "np.sum(y==0),np.sum(y==1)"
   ]
  },
  {
   "cell_type": "code",
   "execution_count": 7,
   "id": "a8a82d23",
   "metadata": {},
   "outputs": [],
   "source": [
    "# split data to preserve ratio of anomalies\n",
    "X_train, X_test, y_train, y_test = tts(X,y,train_size=0.75)"
   ]
  },
  {
   "cell_type": "code",
   "execution_count": 8,
   "id": "e76c5a04",
   "metadata": {},
   "outputs": [
    {
     "data": {
      "text/plain": [
       "(2065375, 1429)"
      ]
     },
     "execution_count": 8,
     "metadata": {},
     "output_type": "execute_result"
    }
   ],
   "source": [
    "np.sum(y_test==0),np.sum(y_test==1)"
   ]
  },
  {
   "cell_type": "code",
   "execution_count": 9,
   "id": "04bf5318",
   "metadata": {},
   "outputs": [],
   "source": [
    "# concatenate training set for resampling\n",
    "train = pd.concat([X_train, y_train], axis=1)"
   ]
  },
  {
   "cell_type": "code",
   "execution_count": 10,
   "id": "dc09ac7b",
   "metadata": {},
   "outputs": [
    {
     "name": "stderr",
     "output_type": "stream",
     "text": [
      "C:\\Users\\Jethro.Thorne\\AppData\\Local\\Temp\\ipykernel_12764\\952307825.py:8: UserWarning: Boolean Series key will be reindexed to match DataFrame index.\n",
      "  rows_to_copy = databal[data.anomaly_2==1]\n"
     ]
    }
   ],
   "source": [
    "# check how many rows have anomoly_2==1\n",
    "train[train.anomaly_2==1]\n",
    "\n",
    "# create new dataset to balance the training set\n",
    "databal = pd.DataFrame(train.loc[train.anomaly_2==1])\n",
    "\n",
    "# copy the anomalys 50 times \n",
    "rows_to_copy = databal[data.anomaly_2==1]\n",
    "copies = [rows_to_copy]*50\n",
    "databal = pd.concat(copies+[databal], ignore_index=False)"
   ]
  },
  {
   "cell_type": "code",
   "execution_count": 65,
   "id": "b9c4b09d",
   "metadata": {},
   "outputs": [
    {
     "data": {
      "text/plain": [
       "(211191, 31)"
      ]
     },
     "execution_count": 65,
     "metadata": {},
     "output_type": "execute_result"
    }
   ],
   "source": [
    "# check \n",
    "databal.shape"
   ]
  },
  {
   "cell_type": "code",
   "execution_count": 11,
   "id": "cc42e0ee",
   "metadata": {
    "scrolled": true
   },
   "outputs": [
    {
     "name": "stderr",
     "output_type": "stream",
     "text": [
      "C:\\Users\\Jethro.Thorne\\AppData\\Local\\Temp\\ipykernel_12764\\3859546890.py:5: FutureWarning: The frame.append method is deprecated and will be removed from pandas in a future version. Use pandas.concat instead.\n",
      "  databal = databal.append(samples)\n"
     ]
    }
   ],
   "source": [
    "# sample 211191 non-anomalous rows from training data (with replacement)\n",
    "samples = train.loc[train.anomaly_2==0].sample(n=211191, replace=True)\n",
    "\n",
    "# append the samples to the dataset\n",
    "databal = databal.append(samples)"
   ]
  },
  {
   "cell_type": "code",
   "execution_count": 67,
   "id": "69e5f8e0",
   "metadata": {},
   "outputs": [
    {
     "data": {
      "text/plain": [
       "(422382, 31)"
      ]
     },
     "execution_count": 67,
     "metadata": {},
     "output_type": "execute_result"
    }
   ],
   "source": [
    "databal.shape"
   ]
  },
  {
   "cell_type": "markdown",
   "id": "e535939c",
   "metadata": {},
   "source": [
    "## Logistic Regression Classifier"
   ]
  },
  {
   "cell_type": "code",
   "execution_count": 12,
   "id": "8e64f641",
   "metadata": {},
   "outputs": [],
   "source": [
    "# preprocessing\n",
    "from sklearn.impute import SimpleImputer\n",
    "from sklearn.preprocessing import MinMaxScaler, OneHotEncoder, StandardScaler\n",
    "\n",
    "# Pipeline\n",
    "from sklearn.pipeline import Pipeline\n",
    "from sklearn.compose import ColumnTransformer\n",
    "\n",
    "# classification model\n",
    "from sklearn.linear_model import LogisticRegression as logreg\n",
    "\n",
    "# grid search \n",
    "from sklearn.model_selection import GridSearchCV, train_test_split as tts\n",
    "\n",
    "# metrics\n",
    "from sklearn.metrics import roc_curve, roc_auc_score, confusion_matrix"
   ]
  },
  {
   "cell_type": "code",
   "execution_count": 13,
   "id": "011595b5",
   "metadata": {},
   "outputs": [],
   "source": [
    "X = databal.drop(['day','anomaly_2','dns_qname','dns_qdomainname','timefirstseen','timelastseen','domain','created','updated','expires'],axis=1)\n",
    "y = databal['anomaly_2']"
   ]
  },
  {
   "cell_type": "code",
   "execution_count": 14,
   "id": "ceb65741",
   "metadata": {},
   "outputs": [
    {
     "data": {
      "text/plain": [
       "2065375"
      ]
     },
     "execution_count": 14,
     "metadata": {},
     "output_type": "execute_result"
    }
   ],
   "source": [
    "np.sum(y_test==0)"
   ]
  },
  {
   "cell_type": "code",
   "execution_count": 73,
   "id": "695a66fd",
   "metadata": {
    "scrolled": true
   },
   "outputs": [
    {
     "data": {
      "text/html": [
       "<div>\n",
       "<style scoped>\n",
       "    .dataframe tbody tr th:only-of-type {\n",
       "        vertical-align: middle;\n",
       "    }\n",
       "\n",
       "    .dataframe tbody tr th {\n",
       "        vertical-align: top;\n",
       "    }\n",
       "\n",
       "    .dataframe thead th {\n",
       "        text-align: right;\n",
       "    }\n",
       "</style>\n",
       "<table border=\"1\" class=\"dataframe\">\n",
       "  <thead>\n",
       "    <tr style=\"text-align: right;\">\n",
       "      <th></th>\n",
       "      <th>Unnamed: 0</th>\n",
       "      <th>shieldid</th>\n",
       "      <th>num_clients</th>\n",
       "      <th>num_responses</th>\n",
       "      <th>shieldid_count</th>\n",
       "      <th>rank</th>\n",
       "      <th>whois</th>\n",
       "      <th>timeseen</th>\n",
       "      <th>tld</th>\n",
       "      <th>mal_tld</th>\n",
       "      <th>...</th>\n",
       "      <th>month_firstseen</th>\n",
       "      <th>day_firstseen</th>\n",
       "      <th>hour_firstseen</th>\n",
       "      <th>month_lastseen</th>\n",
       "      <th>day_lastseen</th>\n",
       "      <th>hour_lastseen</th>\n",
       "      <th>day_created</th>\n",
       "      <th>month_created</th>\n",
       "      <th>day_expires</th>\n",
       "      <th>month_expires</th>\n",
       "    </tr>\n",
       "  </thead>\n",
       "  <tbody>\n",
       "    <tr>\n",
       "      <th>8103476</th>\n",
       "      <td>8103698</td>\n",
       "      <td>fecjavfec</td>\n",
       "      <td>1</td>\n",
       "      <td>2</td>\n",
       "      <td>1</td>\n",
       "      <td>0.0</td>\n",
       "      <td>whois.tucows.com</td>\n",
       "      <td>0.000</td>\n",
       "      <td>blog</td>\n",
       "      <td>0</td>\n",
       "      <td>...</td>\n",
       "      <td>1</td>\n",
       "      <td>2</td>\n",
       "      <td>13</td>\n",
       "      <td>1</td>\n",
       "      <td>2</td>\n",
       "      <td>13</td>\n",
       "      <td>3.0</td>\n",
       "      <td>1.0</td>\n",
       "      <td>3.0</td>\n",
       "      <td>1.0</td>\n",
       "    </tr>\n",
       "    <tr>\n",
       "      <th>8142673</th>\n",
       "      <td>8142900</td>\n",
       "      <td>fecjavfec</td>\n",
       "      <td>2</td>\n",
       "      <td>3</td>\n",
       "      <td>1</td>\n",
       "      <td>0.0</td>\n",
       "      <td>whois.your-server.de</td>\n",
       "      <td>0.033</td>\n",
       "      <td>com</td>\n",
       "      <td>0</td>\n",
       "      <td>...</td>\n",
       "      <td>12</td>\n",
       "      <td>2</td>\n",
       "      <td>15</td>\n",
       "      <td>12</td>\n",
       "      <td>2</td>\n",
       "      <td>15</td>\n",
       "      <td>0.0</td>\n",
       "      <td>11.0</td>\n",
       "      <td>1.0</td>\n",
       "      <td>11.0</td>\n",
       "    </tr>\n",
       "    <tr>\n",
       "      <th>7566222</th>\n",
       "      <td>7566321</td>\n",
       "      <td>fecjavfec</td>\n",
       "      <td>1</td>\n",
       "      <td>2</td>\n",
       "      <td>1</td>\n",
       "      <td>0.0</td>\n",
       "      <td>whois.godaddy.com</td>\n",
       "      <td>4764.224</td>\n",
       "      <td>org</td>\n",
       "      <td>0</td>\n",
       "      <td>...</td>\n",
       "      <td>12</td>\n",
       "      <td>2</td>\n",
       "      <td>18</td>\n",
       "      <td>12</td>\n",
       "      <td>2</td>\n",
       "      <td>19</td>\n",
       "      <td>1.0</td>\n",
       "      <td>6.0</td>\n",
       "      <td>4.0</td>\n",
       "      <td>6.0</td>\n",
       "    </tr>\n",
       "    <tr>\n",
       "      <th>8099609</th>\n",
       "      <td>8099831</td>\n",
       "      <td>scefunnu</td>\n",
       "      <td>2</td>\n",
       "      <td>2</td>\n",
       "      <td>1</td>\n",
       "      <td>0.0</td>\n",
       "      <td>whois.godaddy.com</td>\n",
       "      <td>11596.613</td>\n",
       "      <td>com</td>\n",
       "      <td>0</td>\n",
       "      <td>...</td>\n",
       "      <td>12</td>\n",
       "      <td>5</td>\n",
       "      <td>17</td>\n",
       "      <td>12</td>\n",
       "      <td>5</td>\n",
       "      <td>20</td>\n",
       "      <td>1.0</td>\n",
       "      <td>2.0</td>\n",
       "      <td>6.0</td>\n",
       "      <td>2.0</td>\n",
       "    </tr>\n",
       "    <tr>\n",
       "      <th>7661695</th>\n",
       "      <td>7661861</td>\n",
       "      <td>tyftyiep</td>\n",
       "      <td>2</td>\n",
       "      <td>102</td>\n",
       "      <td>14</td>\n",
       "      <td>0.0</td>\n",
       "      <td>whois.godaddy.com</td>\n",
       "      <td>29382.393</td>\n",
       "      <td>com</td>\n",
       "      <td>0</td>\n",
       "      <td>...</td>\n",
       "      <td>1</td>\n",
       "      <td>1</td>\n",
       "      <td>12</td>\n",
       "      <td>1</td>\n",
       "      <td>1</td>\n",
       "      <td>21</td>\n",
       "      <td>4.0</td>\n",
       "      <td>2.0</td>\n",
       "      <td>5.0</td>\n",
       "      <td>2.0</td>\n",
       "    </tr>\n",
       "    <tr>\n",
       "      <th>...</th>\n",
       "      <td>...</td>\n",
       "      <td>...</td>\n",
       "      <td>...</td>\n",
       "      <td>...</td>\n",
       "      <td>...</td>\n",
       "      <td>...</td>\n",
       "      <td>...</td>\n",
       "      <td>...</td>\n",
       "      <td>...</td>\n",
       "      <td>...</td>\n",
       "      <td>...</td>\n",
       "      <td>...</td>\n",
       "      <td>...</td>\n",
       "      <td>...</td>\n",
       "      <td>...</td>\n",
       "      <td>...</td>\n",
       "      <td>...</td>\n",
       "      <td>...</td>\n",
       "      <td>...</td>\n",
       "      <td>...</td>\n",
       "      <td>...</td>\n",
       "    </tr>\n",
       "    <tr>\n",
       "      <th>3068348</th>\n",
       "      <td>3068348</td>\n",
       "      <td>thewseanwi</td>\n",
       "      <td>4</td>\n",
       "      <td>28</td>\n",
       "      <td>31</td>\n",
       "      <td>82.0</td>\n",
       "      <td>whois.markmonitor.com</td>\n",
       "      <td>81443.421</td>\n",
       "      <td>com</td>\n",
       "      <td>0</td>\n",
       "      <td>...</td>\n",
       "      <td>1</td>\n",
       "      <td>5</td>\n",
       "      <td>1</td>\n",
       "      <td>1</td>\n",
       "      <td>5</td>\n",
       "      <td>23</td>\n",
       "      <td>0.0</td>\n",
       "      <td>11.0</td>\n",
       "      <td>4.0</td>\n",
       "      <td>11.0</td>\n",
       "    </tr>\n",
       "    <tr>\n",
       "      <th>334946</th>\n",
       "      <td>334946</td>\n",
       "      <td>fecjavfec</td>\n",
       "      <td>2</td>\n",
       "      <td>6</td>\n",
       "      <td>45</td>\n",
       "      <td>119.0</td>\n",
       "      <td>whois.markmonitor.com</td>\n",
       "      <td>0.025</td>\n",
       "      <td>com</td>\n",
       "      <td>0</td>\n",
       "      <td>...</td>\n",
       "      <td>12</td>\n",
       "      <td>2</td>\n",
       "      <td>17</td>\n",
       "      <td>12</td>\n",
       "      <td>2</td>\n",
       "      <td>17</td>\n",
       "      <td>1.0</td>\n",
       "      <td>4.0</td>\n",
       "      <td>3.0</td>\n",
       "      <td>4.0</td>\n",
       "    </tr>\n",
       "    <tr>\n",
       "      <th>7596597</th>\n",
       "      <td>7596696</td>\n",
       "      <td>lakuntautt</td>\n",
       "      <td>1</td>\n",
       "      <td>4</td>\n",
       "      <td>3</td>\n",
       "      <td>0.0</td>\n",
       "      <td>whois.enterprice.net</td>\n",
       "      <td>0.000</td>\n",
       "      <td>com</td>\n",
       "      <td>0</td>\n",
       "      <td>...</td>\n",
       "      <td>12</td>\n",
       "      <td>1</td>\n",
       "      <td>2</td>\n",
       "      <td>12</td>\n",
       "      <td>1</td>\n",
       "      <td>2</td>\n",
       "      <td>0.0</td>\n",
       "      <td>3.0</td>\n",
       "      <td>3.0</td>\n",
       "      <td>3.0</td>\n",
       "    </tr>\n",
       "    <tr>\n",
       "      <th>5069088</th>\n",
       "      <td>5069088</td>\n",
       "      <td>shwedvervi</td>\n",
       "      <td>1</td>\n",
       "      <td>2</td>\n",
       "      <td>36</td>\n",
       "      <td>0.0</td>\n",
       "      <td>whois.godaddy.com</td>\n",
       "      <td>23665.989</td>\n",
       "      <td>net</td>\n",
       "      <td>0</td>\n",
       "      <td>...</td>\n",
       "      <td>1</td>\n",
       "      <td>2</td>\n",
       "      <td>12</td>\n",
       "      <td>1</td>\n",
       "      <td>2</td>\n",
       "      <td>18</td>\n",
       "      <td>2.0</td>\n",
       "      <td>1.0</td>\n",
       "      <td>0.0</td>\n",
       "      <td>10.0</td>\n",
       "    </tr>\n",
       "    <tr>\n",
       "      <th>3310923</th>\n",
       "      <td>3310923</td>\n",
       "      <td>oreethecaw</td>\n",
       "      <td>2</td>\n",
       "      <td>20</td>\n",
       "      <td>19</td>\n",
       "      <td>0.0</td>\n",
       "      <td>whois.markmonitor.com</td>\n",
       "      <td>9463.261</td>\n",
       "      <td>net</td>\n",
       "      <td>0</td>\n",
       "      <td>...</td>\n",
       "      <td>12</td>\n",
       "      <td>4</td>\n",
       "      <td>11</td>\n",
       "      <td>12</td>\n",
       "      <td>4</td>\n",
       "      <td>14</td>\n",
       "      <td>3.0</td>\n",
       "      <td>3.0</td>\n",
       "      <td>0.0</td>\n",
       "      <td>3.0</td>\n",
       "    </tr>\n",
       "  </tbody>\n",
       "</table>\n",
       "<p>422382 rows × 21 columns</p>\n",
       "</div>"
      ],
      "text/plain": [
       "         Unnamed: 0    shieldid  num_clients  num_responses  shieldid_count  \\\n",
       "8103476     8103698   fecjavfec            1              2               1   \n",
       "8142673     8142900   fecjavfec            2              3               1   \n",
       "7566222     7566321   fecjavfec            1              2               1   \n",
       "8099609     8099831    scefunnu            2              2               1   \n",
       "7661695     7661861    tyftyiep            2            102              14   \n",
       "...             ...         ...          ...            ...             ...   \n",
       "3068348     3068348  thewseanwi            4             28              31   \n",
       "334946       334946   fecjavfec            2              6              45   \n",
       "7596597     7596696  lakuntautt            1              4               3   \n",
       "5069088     5069088  shwedvervi            1              2              36   \n",
       "3310923     3310923  oreethecaw            2             20              19   \n",
       "\n",
       "          rank                  whois   timeseen   tld  mal_tld  ...  \\\n",
       "8103476    0.0       whois.tucows.com      0.000  blog        0  ...   \n",
       "8142673    0.0   whois.your-server.de      0.033   com        0  ...   \n",
       "7566222    0.0      whois.godaddy.com   4764.224   org        0  ...   \n",
       "8099609    0.0      whois.godaddy.com  11596.613   com        0  ...   \n",
       "7661695    0.0      whois.godaddy.com  29382.393   com        0  ...   \n",
       "...        ...                    ...        ...   ...      ...  ...   \n",
       "3068348   82.0  whois.markmonitor.com  81443.421   com        0  ...   \n",
       "334946   119.0  whois.markmonitor.com      0.025   com        0  ...   \n",
       "7596597    0.0   whois.enterprice.net      0.000   com        0  ...   \n",
       "5069088    0.0      whois.godaddy.com  23665.989   net        0  ...   \n",
       "3310923    0.0  whois.markmonitor.com   9463.261   net        0  ...   \n",
       "\n",
       "         month_firstseen  day_firstseen  hour_firstseen  month_lastseen  \\\n",
       "8103476                1              2              13               1   \n",
       "8142673               12              2              15              12   \n",
       "7566222               12              2              18              12   \n",
       "8099609               12              5              17              12   \n",
       "7661695                1              1              12               1   \n",
       "...                  ...            ...             ...             ...   \n",
       "3068348                1              5               1               1   \n",
       "334946                12              2              17              12   \n",
       "7596597               12              1               2              12   \n",
       "5069088                1              2              12               1   \n",
       "3310923               12              4              11              12   \n",
       "\n",
       "         day_lastseen  hour_lastseen  day_created  month_created  day_expires  \\\n",
       "8103476             2             13          3.0            1.0          3.0   \n",
       "8142673             2             15          0.0           11.0          1.0   \n",
       "7566222             2             19          1.0            6.0          4.0   \n",
       "8099609             5             20          1.0            2.0          6.0   \n",
       "7661695             1             21          4.0            2.0          5.0   \n",
       "...               ...            ...          ...            ...          ...   \n",
       "3068348             5             23          0.0           11.0          4.0   \n",
       "334946              2             17          1.0            4.0          3.0   \n",
       "7596597             1              2          0.0            3.0          3.0   \n",
       "5069088             2             18          2.0            1.0          0.0   \n",
       "3310923             4             14          3.0            3.0          0.0   \n",
       "\n",
       "         month_expires  \n",
       "8103476            1.0  \n",
       "8142673           11.0  \n",
       "7566222            6.0  \n",
       "8099609            2.0  \n",
       "7661695            2.0  \n",
       "...                ...  \n",
       "3068348           11.0  \n",
       "334946             4.0  \n",
       "7596597            3.0  \n",
       "5069088           10.0  \n",
       "3310923            3.0  \n",
       "\n",
       "[422382 rows x 21 columns]"
      ]
     },
     "execution_count": 73,
     "metadata": {},
     "output_type": "execute_result"
    }
   ],
   "source": [
    "X"
   ]
  },
  {
   "cell_type": "code",
   "execution_count": 15,
   "id": "fd021858",
   "metadata": {},
   "outputs": [],
   "source": [
    "num_feat = ['num_clients', 'num_responses','shieldid_count','rank','timeseen',\n",
    "                   'days_existed','day_firstseen','hour_firstseen','month_firstseen', \n",
    "                   'month_lastseen', 'day_lastseen','hour_lastseen', 'day_created',\n",
    "                   'month_created', 'day_expires','month_expires']\n",
    "cat_feat = ['shieldid','whois','tld','mal_tld']"
   ]
  },
  {
   "cell_type": "code",
   "execution_count": 22,
   "id": "83823e25",
   "metadata": {},
   "outputs": [],
   "source": [
    "num_processor = Pipeline(steps=[\n",
    "    ('imputer', SimpleImputer(strategy='constant')),\n",
    "    ('scaler', StandardScaler())  \n",
    "])\n",
    "\n",
    "cat_processor = Pipeline(steps=[\n",
    "     ('imputer', SimpleImputer(strategy = 'constant')),\n",
    "     ('encoder', OneHotEncoder(handle_unknown='ignore'))   \n",
    " ])"
   ]
  },
  {
   "cell_type": "code",
   "execution_count": 23,
   "id": "effc1c73",
   "metadata": {},
   "outputs": [],
   "source": [
    "feat_processor = ColumnTransformer(transformers = [\n",
    "    ('num_pipe', num_processor,num_feat),\n",
    "    ('cat_pipe', cat_processor, cat_feat)\n",
    "],remainder='drop')"
   ]
  },
  {
   "cell_type": "code",
   "execution_count": 24,
   "id": "707cdc93",
   "metadata": {
    "scrolled": true
   },
   "outputs": [
    {
     "data": {
      "text/plain": [
       "Pipeline(steps=[('feature_processor',\n",
       "                 ColumnTransformer(transformers=[('num_pipe',\n",
       "                                                  Pipeline(steps=[('imputer',\n",
       "                                                                   SimpleImputer(strategy='constant')),\n",
       "                                                                  ('scaler',\n",
       "                                                                   StandardScaler())]),\n",
       "                                                  ['num_clients',\n",
       "                                                   'num_responses',\n",
       "                                                   'shieldid_count', 'rank',\n",
       "                                                   'timeseen', 'days_existed',\n",
       "                                                   'day_firstseen',\n",
       "                                                   'hour_firstseen',\n",
       "                                                   'month_firstseen',\n",
       "                                                   'month_lastseen',\n",
       "                                                   'day_lastseen',\n",
       "                                                   'hour_lastseen',\n",
       "                                                   'day_created',\n",
       "                                                   'month_created',\n",
       "                                                   'day_expires',\n",
       "                                                   'month_expires']),\n",
       "                                                 ('cat_pipe',\n",
       "                                                  Pipeline(steps=[('imputer',\n",
       "                                                                   SimpleImputer(strategy='constant')),\n",
       "                                                                  ('encoder',\n",
       "                                                                   OneHotEncoder(handle_unknown='ignore'))]),\n",
       "                                                  ['shieldid', 'whois', 'tld',\n",
       "                                                   'mal_tld'])])),\n",
       "                ('clf', LogisticRegression())])"
      ]
     },
     "execution_count": 24,
     "metadata": {},
     "output_type": "execute_result"
    }
   ],
   "source": [
    "pipe = Pipeline(steps=[\n",
    "    ('feature_processor', feat_processor),\n",
    "    ('clf', logreg())\n",
    "])\n",
    "pipe"
   ]
  },
  {
   "cell_type": "code",
   "execution_count": 25,
   "id": "7212b832",
   "metadata": {
    "scrolled": true
   },
   "outputs": [
    {
     "name": "stderr",
     "output_type": "stream",
     "text": [
      "C:\\Users\\Jethro.Thorne\\Downloads\\Python\\lib\\site-packages\\sklearn\\linear_model\\_logistic.py:814: ConvergenceWarning: lbfgs failed to converge (status=1):\n",
      "STOP: TOTAL NO. of ITERATIONS REACHED LIMIT.\n",
      "\n",
      "Increase the number of iterations (max_iter) or scale the data as shown in:\n",
      "    https://scikit-learn.org/stable/modules/preprocessing.html\n",
      "Please also refer to the documentation for alternative solver options:\n",
      "    https://scikit-learn.org/stable/modules/linear_model.html#logistic-regression\n",
      "  n_iter_i = _check_optimize_result(\n"
     ]
    },
    {
     "data": {
      "text/plain": [
       "Pipeline(steps=[('feature_processor',\n",
       "                 ColumnTransformer(transformers=[('num_pipe',\n",
       "                                                  Pipeline(steps=[('imputer',\n",
       "                                                                   SimpleImputer(strategy='constant')),\n",
       "                                                                  ('scaler',\n",
       "                                                                   StandardScaler())]),\n",
       "                                                  ['num_clients',\n",
       "                                                   'num_responses',\n",
       "                                                   'shieldid_count', 'rank',\n",
       "                                                   'timeseen', 'days_existed',\n",
       "                                                   'day_firstseen',\n",
       "                                                   'hour_firstseen',\n",
       "                                                   'month_firstseen',\n",
       "                                                   'month_lastseen',\n",
       "                                                   'day_lastseen',\n",
       "                                                   'hour_lastseen',\n",
       "                                                   'day_created',\n",
       "                                                   'month_created',\n",
       "                                                   'day_expires',\n",
       "                                                   'month_expires']),\n",
       "                                                 ('cat_pipe',\n",
       "                                                  Pipeline(steps=[('imputer',\n",
       "                                                                   SimpleImputer(strategy='constant')),\n",
       "                                                                  ('encoder',\n",
       "                                                                   OneHotEncoder(handle_unknown='ignore'))]),\n",
       "                                                  ['shieldid', 'whois', 'tld',\n",
       "                                                   'mal_tld'])])),\n",
       "                ('clf', LogisticRegression())])"
      ]
     },
     "execution_count": 25,
     "metadata": {},
     "output_type": "execute_result"
    }
   ],
   "source": [
    "pipe.fit(X,y)"
   ]
  },
  {
   "cell_type": "code",
   "execution_count": 26,
   "id": "cd0b6af8",
   "metadata": {},
   "outputs": [
    {
     "data": {
      "text/plain": [
       "1429"
      ]
     },
     "execution_count": 26,
     "metadata": {},
     "output_type": "execute_result"
    }
   ],
   "source": [
    "np.sum(y_test)"
   ]
  },
  {
   "cell_type": "code",
   "execution_count": 27,
   "id": "c1c86df0",
   "metadata": {
    "scrolled": true
   },
   "outputs": [],
   "source": [
    "ypred=pipe.predict(X_test)\n",
    "yproba=pipe.predict_proba(X_test)"
   ]
  },
  {
   "cell_type": "code",
   "execution_count": 28,
   "id": "96347a8a",
   "metadata": {},
   "outputs": [
    {
     "data": {
      "text/plain": [
       "array([[1767489,  297886],\n",
       "       [     77,    1352]], dtype=int64)"
      ]
     },
     "execution_count": 28,
     "metadata": {},
     "output_type": "execute_result"
    }
   ],
   "source": [
    "confusion_matrix(y_test, ypred, labels=None, sample_weight=None, normalize=None)"
   ]
  },
  {
   "cell_type": "code",
   "execution_count": 29,
   "id": "2c309220",
   "metadata": {},
   "outputs": [
    {
     "data": {
      "text/plain": [
       "(2065375, 1429)"
      ]
     },
     "execution_count": 29,
     "metadata": {},
     "output_type": "execute_result"
    }
   ],
   "source": [
    "np.sum(y_test==0), np.sum(y_test==1)"
   ]
  },
  {
   "cell_type": "code",
   "execution_count": null,
   "id": "df8da4f4",
   "metadata": {},
   "outputs": [],
   "source": []
  }
 ],
 "metadata": {
  "kernelspec": {
   "display_name": "Python 3 (ipykernel)",
   "language": "python",
   "name": "python3"
  },
  "language_info": {
   "codemirror_mode": {
    "name": "ipython",
    "version": 3
   },
   "file_extension": ".py",
   "mimetype": "text/x-python",
   "name": "python",
   "nbconvert_exporter": "python",
   "pygments_lexer": "ipython3",
   "version": "3.9.13"
  }
 },
 "nbformat": 4,
 "nbformat_minor": 5
}
