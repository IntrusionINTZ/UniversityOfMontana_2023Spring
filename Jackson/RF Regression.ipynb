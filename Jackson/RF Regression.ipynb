{
 "cells": [
  {
   "cell_type": "code",
   "execution_count": 3,
   "id": "d5da8018",
   "metadata": {},
   "outputs": [],
   "source": [
    "import pandas as pd\n",
    "import matplotlib.pyplot as plt\n",
    "import numpy as np\n",
    "from sklearn.ensemble import RandomForestRegressor\n",
    "from sklearn.metrics import roc_curve, roc_auc_score\n",
    "from sklearn.model_selection import GridSearchCV,train_test_split\n",
    "from sklearn.pipeline import Pipeline\n",
    "from sklearn.compose import ColumnTransformer\n",
    "from sklearn.preprocessing import StandardScaler, OneHotEncoder, PolynomialFeatures, OrdinalEncoder\n",
    "from sklearn.impute import SimpleImputer\n"
   ]
  },
  {
   "cell_type": "code",
   "execution_count": 4,
   "id": "9ec8950b",
   "metadata": {},
   "outputs": [],
   "source": [
    "data_1 = pd.read_csv('anomaly_probs.csv')"
   ]
  },
  {
   "cell_type": "code",
   "execution_count": 5,
   "id": "646dc26a",
   "metadata": {},
   "outputs": [
    {
     "data": {
      "text/plain": [
       "Index(['Unnamed: 0', 'day', 'dns_qdomainname', 'num_clients', 'num_responses',\n",
       "       'anomaly', 'shieldid_count', 'rank', 'num_shieldid', 'num_dns_qname',\n",
       "       'client_sum_group', 'responses_sum_group', 'shield_sum_group',\n",
       "       'prob_obs_num_clients', 'prob_obs_num_responses', 'prob_obs_num_shield',\n",
       "       'total_prob', 'month', '0_x', 'normalized_prob_responses', '0_y',\n",
       "       'normalized_prob_clients', '0', 'normalized_prob_shields',\n",
       "       'normalized_total_prob'],\n",
       "      dtype='object')"
      ]
     },
     "execution_count": 5,
     "metadata": {},
     "output_type": "execute_result"
    }
   ],
   "source": [
    "data_1.columns"
   ]
  },
  {
   "cell_type": "code",
   "execution_count": 6,
   "id": "95aa984b",
   "metadata": {},
   "outputs": [],
   "source": [
    "data_2 = pd.read_csv('data_small_update.csv')"
   ]
  },
  {
   "cell_type": "code",
   "execution_count": 7,
   "id": "115c3911",
   "metadata": {},
   "outputs": [
    {
     "data": {
      "text/plain": [
       "781111"
      ]
     },
     "execution_count": 7,
     "metadata": {},
     "output_type": "execute_result"
    }
   ],
   "source": [
    "len(data_1)"
   ]
  },
  {
   "cell_type": "code",
   "execution_count": 8,
   "id": "ff32ba11",
   "metadata": {},
   "outputs": [
    {
     "data": {
      "text/plain": [
       "8267214"
      ]
     },
     "execution_count": 8,
     "metadata": {},
     "output_type": "execute_result"
    }
   ],
   "source": [
    "len(data_2)"
   ]
  },
  {
   "cell_type": "code",
   "execution_count": 9,
   "id": "077ccbd6",
   "metadata": {},
   "outputs": [],
   "source": [
    "probs=data_1[['day','dns_qdomainname','normalized_prob_responses','normalized_prob_clients','normalized_prob_shields','normalized_total_prob']]"
   ]
  },
  {
   "cell_type": "code",
   "execution_count": 10,
   "id": "2f19d809",
   "metadata": {},
   "outputs": [],
   "source": [
    "data = pd.merge(probs, data_2, on=['day','dns_qdomainname'],how='right')"
   ]
  },
  {
   "cell_type": "code",
   "execution_count": 20,
   "id": "580c0545",
   "metadata": {},
   "outputs": [],
   "source": [
    "#data.to_csv('Reg_data')"
   ]
  },
  {
   "cell_type": "markdown",
   "id": "923c78dc",
   "metadata": {},
   "source": [
    "## RF Regression Pipeline"
   ]
  },
  {
   "cell_type": "code",
   "execution_count": 11,
   "id": "6bfbf623",
   "metadata": {},
   "outputs": [
    {
     "data": {
      "text/plain": [
       "Index(['day', 'dns_qdomainname', 'normalized_prob_responses',\n",
       "       'normalized_prob_clients', 'normalized_prob_shields',\n",
       "       'normalized_total_prob', 'Unnamed: 0', 'shieldid', 'dns_qname',\n",
       "       'num_clients', 'num_responses', 'timefirstseen', 'timelastseen',\n",
       "       'anomaly', 'shieldid_count', 'rank', 'domain', 'created', 'updated',\n",
       "       'expires', 'whois', 'timeseen', 'anomaly_2', 'tld', 'mal_tld',\n",
       "       'days_existed', 'month_firstseen', 'day_firstseen', 'hour_firstseen',\n",
       "       'month_lastseen', 'day_lastseen', 'hour_lastseen', 'day_created',\n",
       "       'month_created', 'day_expires', 'month_expires'],\n",
       "      dtype='object')"
      ]
     },
     "execution_count": 11,
     "metadata": {},
     "output_type": "execute_result"
    }
   ],
   "source": [
    "data.columns"
   ]
  },
  {
   "cell_type": "code",
   "execution_count": 12,
   "id": "2e58ddd8",
   "metadata": {},
   "outputs": [],
   "source": [
    "X = data.drop(['day','anomaly','anomaly_2','dns_qname','dns_qdomainname','timefirstseen','timelastseen','domain','created','updated','expires','Unnamed: 0','normalized_prob_responses','normalized_prob_clients','normalized_prob_shields','normalized_total_prob'],axis=1)\n",
    "y = data['normalized_total_prob']"
   ]
  },
  {
   "cell_type": "code",
   "execution_count": 13,
   "id": "a60bd6b9",
   "metadata": {},
   "outputs": [
    {
     "data": {
      "text/plain": [
       "Index(['shieldid', 'num_clients', 'num_responses', 'shieldid_count', 'rank',\n",
       "       'whois', 'timeseen', 'tld', 'mal_tld', 'days_existed',\n",
       "       'month_firstseen', 'day_firstseen', 'hour_firstseen', 'month_lastseen',\n",
       "       'day_lastseen', 'hour_lastseen', 'day_created', 'month_created',\n",
       "       'day_expires', 'month_expires'],\n",
       "      dtype='object')"
      ]
     },
     "execution_count": 13,
     "metadata": {},
     "output_type": "execute_result"
    }
   ],
   "source": [
    "X.columns"
   ]
  },
  {
   "cell_type": "code",
   "execution_count": 14,
   "id": "00d65be3",
   "metadata": {},
   "outputs": [],
   "source": [
    "numerical_feats = ['num_clients', 'num_responses','shieldid_count','rank','timeseen',\n",
    "                   'days_existed','day_firstseen','hour_firstseen','month_firstseen', \n",
    "                   'month_lastseen', 'day_lastseen','hour_lastseen', 'day_created',\n",
    "                   'month_created', 'day_expires','month_expires']\n",
    "categorical_feats = ['shieldid','whois','tld','mal_tld']"
   ]
  },
  {
   "cell_type": "code",
   "execution_count": 15,
   "id": "5fbeeec0",
   "metadata": {},
   "outputs": [],
   "source": [
    "num_processor = Pipeline(steps=[\n",
    "    ('imputer', SimpleImputer(strategy='constant')),\n",
    "    ('scaler', StandardScaler())  \n",
    "])\n",
    "\n",
    "cat_processor = Pipeline(steps=[\n",
    "     ('imputer', SimpleImputer(strategy = 'constant')),\n",
    "     ('encoder', OneHotEncoder())   \n",
    " ])"
   ]
  },
  {
   "cell_type": "code",
   "execution_count": 16,
   "id": "c77e408d",
   "metadata": {},
   "outputs": [],
   "source": [
    "feat_processor = ColumnTransformer(transformers = [\n",
    "    ('num_pipe', num_processor,numerical_feats),\n",
    "    ('cat_pipe', cat_processor, categorical_feats)\n",
    "],remainder='drop')"
   ]
  },
  {
   "cell_type": "code",
   "execution_count": 17,
   "id": "2575b669",
   "metadata": {},
   "outputs": [],
   "source": [
    "Regressor = RandomForestRegressor()"
   ]
  },
  {
   "cell_type": "code",
   "execution_count": 18,
   "id": "16f7a94f",
   "metadata": {
    "scrolled": true
   },
   "outputs": [
    {
     "data": {
      "text/html": [
       "<style>#sk-container-id-1 {color: black;background-color: white;}#sk-container-id-1 pre{padding: 0;}#sk-container-id-1 div.sk-toggleable {background-color: white;}#sk-container-id-1 label.sk-toggleable__label {cursor: pointer;display: block;width: 100%;margin-bottom: 0;padding: 0.3em;box-sizing: border-box;text-align: center;}#sk-container-id-1 label.sk-toggleable__label-arrow:before {content: \"▸\";float: left;margin-right: 0.25em;color: #696969;}#sk-container-id-1 label.sk-toggleable__label-arrow:hover:before {color: black;}#sk-container-id-1 div.sk-estimator:hover label.sk-toggleable__label-arrow:before {color: black;}#sk-container-id-1 div.sk-toggleable__content {max-height: 0;max-width: 0;overflow: hidden;text-align: left;background-color: #f0f8ff;}#sk-container-id-1 div.sk-toggleable__content pre {margin: 0.2em;color: black;border-radius: 0.25em;background-color: #f0f8ff;}#sk-container-id-1 input.sk-toggleable__control:checked~div.sk-toggleable__content {max-height: 200px;max-width: 100%;overflow: auto;}#sk-container-id-1 input.sk-toggleable__control:checked~label.sk-toggleable__label-arrow:before {content: \"▾\";}#sk-container-id-1 div.sk-estimator input.sk-toggleable__control:checked~label.sk-toggleable__label {background-color: #d4ebff;}#sk-container-id-1 div.sk-label input.sk-toggleable__control:checked~label.sk-toggleable__label {background-color: #d4ebff;}#sk-container-id-1 input.sk-hidden--visually {border: 0;clip: rect(1px 1px 1px 1px);clip: rect(1px, 1px, 1px, 1px);height: 1px;margin: -1px;overflow: hidden;padding: 0;position: absolute;width: 1px;}#sk-container-id-1 div.sk-estimator {font-family: monospace;background-color: #f0f8ff;border: 1px dotted black;border-radius: 0.25em;box-sizing: border-box;margin-bottom: 0.5em;}#sk-container-id-1 div.sk-estimator:hover {background-color: #d4ebff;}#sk-container-id-1 div.sk-parallel-item::after {content: \"\";width: 100%;border-bottom: 1px solid gray;flex-grow: 1;}#sk-container-id-1 div.sk-label:hover label.sk-toggleable__label {background-color: #d4ebff;}#sk-container-id-1 div.sk-serial::before {content: \"\";position: absolute;border-left: 1px solid gray;box-sizing: border-box;top: 0;bottom: 0;left: 50%;z-index: 0;}#sk-container-id-1 div.sk-serial {display: flex;flex-direction: column;align-items: center;background-color: white;padding-right: 0.2em;padding-left: 0.2em;position: relative;}#sk-container-id-1 div.sk-item {position: relative;z-index: 1;}#sk-container-id-1 div.sk-parallel {display: flex;align-items: stretch;justify-content: center;background-color: white;position: relative;}#sk-container-id-1 div.sk-item::before, #sk-container-id-1 div.sk-parallel-item::before {content: \"\";position: absolute;border-left: 1px solid gray;box-sizing: border-box;top: 0;bottom: 0;left: 50%;z-index: -1;}#sk-container-id-1 div.sk-parallel-item {display: flex;flex-direction: column;z-index: 1;position: relative;background-color: white;}#sk-container-id-1 div.sk-parallel-item:first-child::after {align-self: flex-end;width: 50%;}#sk-container-id-1 div.sk-parallel-item:last-child::after {align-self: flex-start;width: 50%;}#sk-container-id-1 div.sk-parallel-item:only-child::after {width: 0;}#sk-container-id-1 div.sk-dashed-wrapped {border: 1px dashed gray;margin: 0 0.4em 0.5em 0.4em;box-sizing: border-box;padding-bottom: 0.4em;background-color: white;}#sk-container-id-1 div.sk-label label {font-family: monospace;font-weight: bold;display: inline-block;line-height: 1.2em;}#sk-container-id-1 div.sk-label-container {text-align: center;}#sk-container-id-1 div.sk-container {/* jupyter's `normalize.less` sets `[hidden] { display: none; }` but bootstrap.min.css set `[hidden] { display: none !important; }` so we also need the `!important` here to be able to override the default hidden behavior on the sphinx rendered scikit-learn.org. See: https://github.com/scikit-learn/scikit-learn/issues/21755 */display: inline-block !important;position: relative;}#sk-container-id-1 div.sk-text-repr-fallback {display: none;}</style><div id=\"sk-container-id-1\" class=\"sk-top-container\"><div class=\"sk-text-repr-fallback\"><pre>Pipeline(steps=[(&#x27;feature_processor&#x27;,\n",
       "                 ColumnTransformer(transformers=[(&#x27;num_pipe&#x27;,\n",
       "                                                  Pipeline(steps=[(&#x27;imputer&#x27;,\n",
       "                                                                   SimpleImputer(strategy=&#x27;constant&#x27;)),\n",
       "                                                                  (&#x27;scaler&#x27;,\n",
       "                                                                   StandardScaler())]),\n",
       "                                                  [&#x27;num_clients&#x27;,\n",
       "                                                   &#x27;num_responses&#x27;,\n",
       "                                                   &#x27;shieldid_count&#x27;, &#x27;rank&#x27;,\n",
       "                                                   &#x27;timeseen&#x27;, &#x27;days_existed&#x27;,\n",
       "                                                   &#x27;day_firstseen&#x27;,\n",
       "                                                   &#x27;hour_firstseen&#x27;,\n",
       "                                                   &#x27;month_firstseen&#x27;,\n",
       "                                                   &#x27;month_lastseen&#x27;,\n",
       "                                                   &#x27;day_lastseen&#x27;,\n",
       "                                                   &#x27;hour_lastseen&#x27;,\n",
       "                                                   &#x27;day_created&#x27;,\n",
       "                                                   &#x27;month_created&#x27;,\n",
       "                                                   &#x27;day_expires&#x27;,\n",
       "                                                   &#x27;month_expires&#x27;]),\n",
       "                                                 (&#x27;cat_pipe&#x27;,\n",
       "                                                  Pipeline(steps=[(&#x27;imputer&#x27;,\n",
       "                                                                   SimpleImputer(strategy=&#x27;constant&#x27;)),\n",
       "                                                                  (&#x27;encoder&#x27;,\n",
       "                                                                   OneHotEncoder())]),\n",
       "                                                  [&#x27;shieldid&#x27;, &#x27;whois&#x27;, &#x27;tld&#x27;,\n",
       "                                                   &#x27;mal_tld&#x27;])])),\n",
       "                (&#x27;reg&#x27;, RandomForestRegressor())])</pre><b>In a Jupyter environment, please rerun this cell to show the HTML representation or trust the notebook. <br />On GitHub, the HTML representation is unable to render, please try loading this page with nbviewer.org.</b></div><div class=\"sk-container\" hidden><div class=\"sk-item sk-dashed-wrapped\"><div class=\"sk-label-container\"><div class=\"sk-label sk-toggleable\"><input class=\"sk-toggleable__control sk-hidden--visually\" id=\"sk-estimator-id-1\" type=\"checkbox\" ><label for=\"sk-estimator-id-1\" class=\"sk-toggleable__label sk-toggleable__label-arrow\">Pipeline</label><div class=\"sk-toggleable__content\"><pre>Pipeline(steps=[(&#x27;feature_processor&#x27;,\n",
       "                 ColumnTransformer(transformers=[(&#x27;num_pipe&#x27;,\n",
       "                                                  Pipeline(steps=[(&#x27;imputer&#x27;,\n",
       "                                                                   SimpleImputer(strategy=&#x27;constant&#x27;)),\n",
       "                                                                  (&#x27;scaler&#x27;,\n",
       "                                                                   StandardScaler())]),\n",
       "                                                  [&#x27;num_clients&#x27;,\n",
       "                                                   &#x27;num_responses&#x27;,\n",
       "                                                   &#x27;shieldid_count&#x27;, &#x27;rank&#x27;,\n",
       "                                                   &#x27;timeseen&#x27;, &#x27;days_existed&#x27;,\n",
       "                                                   &#x27;day_firstseen&#x27;,\n",
       "                                                   &#x27;hour_firstseen&#x27;,\n",
       "                                                   &#x27;month_firstseen&#x27;,\n",
       "                                                   &#x27;month_lastseen&#x27;,\n",
       "                                                   &#x27;day_lastseen&#x27;,\n",
       "                                                   &#x27;hour_lastseen&#x27;,\n",
       "                                                   &#x27;day_created&#x27;,\n",
       "                                                   &#x27;month_created&#x27;,\n",
       "                                                   &#x27;day_expires&#x27;,\n",
       "                                                   &#x27;month_expires&#x27;]),\n",
       "                                                 (&#x27;cat_pipe&#x27;,\n",
       "                                                  Pipeline(steps=[(&#x27;imputer&#x27;,\n",
       "                                                                   SimpleImputer(strategy=&#x27;constant&#x27;)),\n",
       "                                                                  (&#x27;encoder&#x27;,\n",
       "                                                                   OneHotEncoder())]),\n",
       "                                                  [&#x27;shieldid&#x27;, &#x27;whois&#x27;, &#x27;tld&#x27;,\n",
       "                                                   &#x27;mal_tld&#x27;])])),\n",
       "                (&#x27;reg&#x27;, RandomForestRegressor())])</pre></div></div></div><div class=\"sk-serial\"><div class=\"sk-item sk-dashed-wrapped\"><div class=\"sk-label-container\"><div class=\"sk-label sk-toggleable\"><input class=\"sk-toggleable__control sk-hidden--visually\" id=\"sk-estimator-id-2\" type=\"checkbox\" ><label for=\"sk-estimator-id-2\" class=\"sk-toggleable__label sk-toggleable__label-arrow\">feature_processor: ColumnTransformer</label><div class=\"sk-toggleable__content\"><pre>ColumnTransformer(transformers=[(&#x27;num_pipe&#x27;,\n",
       "                                 Pipeline(steps=[(&#x27;imputer&#x27;,\n",
       "                                                  SimpleImputer(strategy=&#x27;constant&#x27;)),\n",
       "                                                 (&#x27;scaler&#x27;, StandardScaler())]),\n",
       "                                 [&#x27;num_clients&#x27;, &#x27;num_responses&#x27;,\n",
       "                                  &#x27;shieldid_count&#x27;, &#x27;rank&#x27;, &#x27;timeseen&#x27;,\n",
       "                                  &#x27;days_existed&#x27;, &#x27;day_firstseen&#x27;,\n",
       "                                  &#x27;hour_firstseen&#x27;, &#x27;month_firstseen&#x27;,\n",
       "                                  &#x27;month_lastseen&#x27;, &#x27;day_lastseen&#x27;,\n",
       "                                  &#x27;hour_lastseen&#x27;, &#x27;day_created&#x27;,\n",
       "                                  &#x27;month_created&#x27;, &#x27;day_expires&#x27;,\n",
       "                                  &#x27;month_expires&#x27;]),\n",
       "                                (&#x27;cat_pipe&#x27;,\n",
       "                                 Pipeline(steps=[(&#x27;imputer&#x27;,\n",
       "                                                  SimpleImputer(strategy=&#x27;constant&#x27;)),\n",
       "                                                 (&#x27;encoder&#x27;, OneHotEncoder())]),\n",
       "                                 [&#x27;shieldid&#x27;, &#x27;whois&#x27;, &#x27;tld&#x27;, &#x27;mal_tld&#x27;])])</pre></div></div></div><div class=\"sk-parallel\"><div class=\"sk-parallel-item\"><div class=\"sk-item\"><div class=\"sk-label-container\"><div class=\"sk-label sk-toggleable\"><input class=\"sk-toggleable__control sk-hidden--visually\" id=\"sk-estimator-id-3\" type=\"checkbox\" ><label for=\"sk-estimator-id-3\" class=\"sk-toggleable__label sk-toggleable__label-arrow\">num_pipe</label><div class=\"sk-toggleable__content\"><pre>[&#x27;num_clients&#x27;, &#x27;num_responses&#x27;, &#x27;shieldid_count&#x27;, &#x27;rank&#x27;, &#x27;timeseen&#x27;, &#x27;days_existed&#x27;, &#x27;day_firstseen&#x27;, &#x27;hour_firstseen&#x27;, &#x27;month_firstseen&#x27;, &#x27;month_lastseen&#x27;, &#x27;day_lastseen&#x27;, &#x27;hour_lastseen&#x27;, &#x27;day_created&#x27;, &#x27;month_created&#x27;, &#x27;day_expires&#x27;, &#x27;month_expires&#x27;]</pre></div></div></div><div class=\"sk-serial\"><div class=\"sk-item\"><div class=\"sk-serial\"><div class=\"sk-item\"><div class=\"sk-estimator sk-toggleable\"><input class=\"sk-toggleable__control sk-hidden--visually\" id=\"sk-estimator-id-4\" type=\"checkbox\" ><label for=\"sk-estimator-id-4\" class=\"sk-toggleable__label sk-toggleable__label-arrow\">SimpleImputer</label><div class=\"sk-toggleable__content\"><pre>SimpleImputer(strategy=&#x27;constant&#x27;)</pre></div></div></div><div class=\"sk-item\"><div class=\"sk-estimator sk-toggleable\"><input class=\"sk-toggleable__control sk-hidden--visually\" id=\"sk-estimator-id-5\" type=\"checkbox\" ><label for=\"sk-estimator-id-5\" class=\"sk-toggleable__label sk-toggleable__label-arrow\">StandardScaler</label><div class=\"sk-toggleable__content\"><pre>StandardScaler()</pre></div></div></div></div></div></div></div></div><div class=\"sk-parallel-item\"><div class=\"sk-item\"><div class=\"sk-label-container\"><div class=\"sk-label sk-toggleable\"><input class=\"sk-toggleable__control sk-hidden--visually\" id=\"sk-estimator-id-6\" type=\"checkbox\" ><label for=\"sk-estimator-id-6\" class=\"sk-toggleable__label sk-toggleable__label-arrow\">cat_pipe</label><div class=\"sk-toggleable__content\"><pre>[&#x27;shieldid&#x27;, &#x27;whois&#x27;, &#x27;tld&#x27;, &#x27;mal_tld&#x27;]</pre></div></div></div><div class=\"sk-serial\"><div class=\"sk-item\"><div class=\"sk-serial\"><div class=\"sk-item\"><div class=\"sk-estimator sk-toggleable\"><input class=\"sk-toggleable__control sk-hidden--visually\" id=\"sk-estimator-id-7\" type=\"checkbox\" ><label for=\"sk-estimator-id-7\" class=\"sk-toggleable__label sk-toggleable__label-arrow\">SimpleImputer</label><div class=\"sk-toggleable__content\"><pre>SimpleImputer(strategy=&#x27;constant&#x27;)</pre></div></div></div><div class=\"sk-item\"><div class=\"sk-estimator sk-toggleable\"><input class=\"sk-toggleable__control sk-hidden--visually\" id=\"sk-estimator-id-8\" type=\"checkbox\" ><label for=\"sk-estimator-id-8\" class=\"sk-toggleable__label sk-toggleable__label-arrow\">OneHotEncoder</label><div class=\"sk-toggleable__content\"><pre>OneHotEncoder()</pre></div></div></div></div></div></div></div></div></div></div><div class=\"sk-item\"><div class=\"sk-estimator sk-toggleable\"><input class=\"sk-toggleable__control sk-hidden--visually\" id=\"sk-estimator-id-9\" type=\"checkbox\" ><label for=\"sk-estimator-id-9\" class=\"sk-toggleable__label sk-toggleable__label-arrow\">RandomForestRegressor</label><div class=\"sk-toggleable__content\"><pre>RandomForestRegressor()</pre></div></div></div></div></div></div></div>"
      ],
      "text/plain": [
       "Pipeline(steps=[('feature_processor',\n",
       "                 ColumnTransformer(transformers=[('num_pipe',\n",
       "                                                  Pipeline(steps=[('imputer',\n",
       "                                                                   SimpleImputer(strategy='constant')),\n",
       "                                                                  ('scaler',\n",
       "                                                                   StandardScaler())]),\n",
       "                                                  ['num_clients',\n",
       "                                                   'num_responses',\n",
       "                                                   'shieldid_count', 'rank',\n",
       "                                                   'timeseen', 'days_existed',\n",
       "                                                   'day_firstseen',\n",
       "                                                   'hour_firstseen',\n",
       "                                                   'month_firstseen',\n",
       "                                                   'month_lastseen',\n",
       "                                                   'day_lastseen',\n",
       "                                                   'hour_lastseen',\n",
       "                                                   'day_created',\n",
       "                                                   'month_created',\n",
       "                                                   'day_expires',\n",
       "                                                   'month_expires']),\n",
       "                                                 ('cat_pipe',\n",
       "                                                  Pipeline(steps=[('imputer',\n",
       "                                                                   SimpleImputer(strategy='constant')),\n",
       "                                                                  ('encoder',\n",
       "                                                                   OneHotEncoder())]),\n",
       "                                                  ['shieldid', 'whois', 'tld',\n",
       "                                                   'mal_tld'])])),\n",
       "                ('reg', RandomForestRegressor())])"
      ]
     },
     "execution_count": 18,
     "metadata": {},
     "output_type": "execute_result"
    }
   ],
   "source": [
    "pipe = Pipeline(steps=[\n",
    "    ('feature_processor', feat_processor),\n",
    "    ('reg', Regressor)\n",
    "])\n",
    "pipe"
   ]
  },
  {
   "cell_type": "code",
   "execution_count": 19,
   "id": "3587a07b",
   "metadata": {},
   "outputs": [],
   "source": [
    "X_train,X_test,y_train,y_test = train_test_split(X,y)"
   ]
  },
  {
   "cell_type": "code",
   "execution_count": null,
   "id": "b04cbea0",
   "metadata": {},
   "outputs": [],
   "source": [
    "pipe.fit(X_train,y_train)"
   ]
  }
 ],
 "metadata": {
  "kernelspec": {
   "display_name": "Python 3 (ipykernel)",
   "language": "python",
   "name": "python3"
  },
  "language_info": {
   "codemirror_mode": {
    "name": "ipython",
    "version": 3
   },
   "file_extension": ".py",
   "mimetype": "text/x-python",
   "name": "python",
   "nbconvert_exporter": "python",
   "pygments_lexer": "ipython3",
   "version": "3.9.12"
  }
 },
 "nbformat": 4,
 "nbformat_minor": 5
}
